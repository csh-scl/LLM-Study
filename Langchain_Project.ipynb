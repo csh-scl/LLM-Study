{
  "nbformat": 4,
  "nbformat_minor": 0,
  "metadata": {
    "colab": {
      "provenance": [],
      "toc_visible": true,
      "authorship_tag": "ABX9TyPHf6iSeBgEbXUtM88RD7cn",
      "include_colab_link": true
    },
    "kernelspec": {
      "name": "python3",
      "display_name": "Python 3"
    },
    "language_info": {
      "name": "python"
    }
  },
  "cells": [
    {
      "cell_type": "markdown",
      "metadata": {
        "id": "view-in-github",
        "colab_type": "text"
      },
      "source": [
        "<a href=\"https://colab.research.google.com/github/csh-scl/LLM-Study/blob/main/Langchain_Project.ipynb\" target=\"_parent\"><img src=\"https://colab.research.google.com/assets/colab-badge.svg\" alt=\"Open In Colab\"/></a>"
      ]
    },
    {
      "cell_type": "markdown",
      "source": [
        "### Text Splitter\n"
      ],
      "metadata": {
        "id": "qMdcCuweBfNL"
      }
    },
    {
      "cell_type": "markdown",
      "source": [
        "Text Splitter는 특정 기준을 통해 텍스트를 청크로 나누는 모듈입니다. 예를 들어, CharacterTextSplitter는 특정 구분자를 기준으로 텍스트를 청크로 분할합니다. 이렇게 함으로써 토큰 제한 이슈를 우회하여 Context를 학습시킬 수 있습니다"
      ],
      "metadata": {
        "id": "fqSmiF6ZBoaN"
      }
    },
    {
      "cell_type": "markdown",
      "source": [
        "#### CharacterTextSplitter  "
      ],
      "metadata": {
        "id": "Pue6BLUlBsGc"
      }
    },
    {
      "cell_type": "markdown",
      "source": [
        "가장 간단한 텍스트 분할기로, 특정 구분자를 기준으로 텍스트를 여러 개로 분할합니다."
      ],
      "metadata": {
        "id": "vmm8DSCoBz45"
      }
    },
    {
      "cell_type": "code",
      "source": [
        "# 구글 드라이브 mount 해오기.\n",
        "from google.colab import drive\n",
        "drive.mount('/content/drive')"
      ],
      "metadata": {
        "id": "1Y6QLl79B1CO",
        "colab": {
          "base_uri": "https://localhost:8080/"
        },
        "outputId": "a19ded6a-8e79-4dd5-c7da-87f4f5f6d438"
      },
      "execution_count": null,
      "outputs": [
        {
          "output_type": "stream",
          "name": "stdout",
          "text": [
            "Drive already mounted at /content/drive; to attempt to forcibly remount, call drive.mount(\"/content/drive\", force_remount=True).\n"
          ]
        }
      ]
    },
    {
      "cell_type": "code",
      "source": [
        "# 파일 읽기\n",
        "with open('/content/drive/MyDrive/state_of_the_union.txt') as f:\n",
        "    state_of_the_union = f.read()"
      ],
      "metadata": {
        "id": "C9Nacfi6CdOl"
      },
      "execution_count": null,
      "outputs": []
    },
    {
      "cell_type": "code",
      "source": [
        "from langchain.text_splitter import CharacterTextSplitter\n",
        "text_splitter = CharacterTextSplitter(\n",
        "    separator = \"\\n\\n\",\n",
        "    chunk_size = 1000,\n",
        "    chunk_overlap  = 100,\n",
        "    length_function = len,\n",
        ")"
      ],
      "metadata": {
        "id": "Bt98ZroeCtGl"
      },
      "execution_count": null,
      "outputs": []
    },
    {
      "cell_type": "code",
      "source": [
        "texts = text_splitter.split_text(state_of_the_union)\n",
        "print(len(texts))\n",
        "print(texts[0])\n",
        "print(\"-\"*100)\n",
        "print(texts[1])\n",
        "print(\"-\"*100)\n",
        "print(texts[2])\n"
      ],
      "metadata": {
        "colab": {
          "base_uri": "https://localhost:8080/"
        },
        "id": "4_b1of8gCvZS",
        "outputId": "c59d4ec5-cd1b-4f08-e7b3-38daee251158"
      },
      "execution_count": null,
      "outputs": [
        {
          "output_type": "stream",
          "name": "stderr",
          "text": [
            "WARNING:langchain_text_splitters.base:Created a chunk of size 1163, which is longer than the specified 1000\n",
            "WARNING:langchain_text_splitters.base:Created a chunk of size 1015, which is longer than the specified 1000\n"
          ]
        },
        {
          "output_type": "stream",
          "name": "stdout",
          "text": [
            "55\n",
            "Madame Speaker, Vice President Biden, members of Congress, distinguished guests, and fellow Americans:\n",
            "\n",
            "Our Constitution declares that from time to time, the president shall give to Congress information about the state of our union. For 220 years, our leaders have fulfilled this duty. They have done so during periods of prosperity and tranquility. And they have done so in the midst of war and depression; at moments of great strife and great struggle.\n",
            "----------------------------------------------------------------------------------------------------\n",
            "It's tempting to look back on these moments and assume that our progress was inevitable, that America was always destined to succeed. But when the Union was turned back at Bull Run and the Allies first landed at Omaha Beach, victory was very much in doubt. When the market crashed on Black Tuesday and civil rights marchers were beaten on Bloody Sunday, the future was anything but certain. These were times that tested the courage of our convictions and the strength of our union. And despite all our divisions and disagreements, our hesitations and our fears, America prevailed because we chose to move forward as one nation and one people.\n",
            "\n",
            "Again, we are tested. And again, we must answer history's call.\n",
            "----------------------------------------------------------------------------------------------------\n",
            "Again, we are tested. And again, we must answer history's call.\n",
            "\n",
            "One year ago, I took office amid two wars, an economy rocked by severe recession, a financial system on the verge of collapse and a government deeply in debt. Experts from across the political spectrum warned that if we did not act, we might face a second depression. So we acted immediately and aggressively. And one year later, the worst of the storm has passed.\n",
            "\n",
            "But the devastation remains. One in 10 Americans still cannot find work. Many businesses have shuttered. Home values have declined. Small towns and rural communities have been hit especially hard. For those who had already known poverty, life has become that much harder.\n",
            "\n",
            "This recession has also compounded the burdens that America's families have been dealing with for decades -- the burden of working harder and longer for less, of being unable to save enough to retire or help kids with college.\n"
          ]
        }
      ]
    },
    {
      "cell_type": "code",
      "source": [
        "char_list = []\n",
        "for i in range(len(texts)):\n",
        "    char_list.append(len(texts[i]))\n",
        "print(char_list)"
      ],
      "metadata": {
        "colab": {
          "base_uri": "https://localhost:8080/"
        },
        "id": "1UI1ijdSDAZQ",
        "outputId": "5f272e55-99c1-4d8c-83cf-3d0cdd008101"
      },
      "execution_count": null,
      "outputs": [
        {
          "output_type": "stream",
          "name": "stdout",
          "text": [
            "[454, 707, 930, 848, 896, 818, 846, 892, 813, 721, 730, 919, 996, 926, 839, 900, 850, 529, 614, 493, 582, 746, 1163, 878, 483, 607, 740, 419, 902, 794, 714, 416, 894, 917, 934, 711, 548, 506, 784, 948, 619, 669, 510, 1015, 714, 527, 701, 597, 436, 750, 558, 992, 920, 786, 790]\n"
          ]
        }
      ]
    },
    {
      "cell_type": "code",
      "source": [
        "print(text_splitter.create_documents([state_of_the_union]))"
      ],
      "metadata": {
        "colab": {
          "base_uri": "https://localhost:8080/"
        },
        "id": "fJ5kp2ezDSW8",
        "outputId": "26cc0733-11f2-4755-c1d0-85371af42edd"
      },
      "execution_count": null,
      "outputs": [
        {
          "output_type": "stream",
          "name": "stderr",
          "text": [
            "WARNING:langchain_text_splitters.base:Created a chunk of size 1163, which is longer than the specified 1000\n",
            "WARNING:langchain_text_splitters.base:Created a chunk of size 1015, which is longer than the specified 1000\n"
          ]
        },
        {
          "output_type": "stream",
          "name": "stdout",
          "text": [
            "[Document(metadata={}, page_content='Madame Speaker, Vice President Biden, members of Congress, distinguished guests, and fellow Americans:\\n\\nOur Constitution declares that from time to time, the president shall give to Congress information about the state of our union. For 220 years, our leaders have fulfilled this duty. They have done so during periods of prosperity and tranquility. And they have done so in the midst of war and depression; at moments of great strife and great struggle.'), Document(metadata={}, page_content=\"It's tempting to look back on these moments and assume that our progress was inevitable, that America was always destined to succeed. But when the Union was turned back at Bull Run and the Allies first landed at Omaha Beach, victory was very much in doubt. When the market crashed on Black Tuesday and civil rights marchers were beaten on Bloody Sunday, the future was anything but certain. These were times that tested the courage of our convictions and the strength of our union. And despite all our divisions and disagreements, our hesitations and our fears, America prevailed because we chose to move forward as one nation and one people.\\n\\nAgain, we are tested. And again, we must answer history's call.\"), Document(metadata={}, page_content=\"Again, we are tested. And again, we must answer history's call.\\n\\nOne year ago, I took office amid two wars, an economy rocked by severe recession, a financial system on the verge of collapse and a government deeply in debt. Experts from across the political spectrum warned that if we did not act, we might face a second depression. So we acted immediately and aggressively. And one year later, the worst of the storm has passed.\\n\\nBut the devastation remains. One in 10 Americans still cannot find work. Many businesses have shuttered. Home values have declined. Small towns and rural communities have been hit especially hard. For those who had already known poverty, life has become that much harder.\\n\\nThis recession has also compounded the burdens that America's families have been dealing with for decades -- the burden of working harder and longer for less, of being unable to save enough to retire or help kids with college.\"), Document(metadata={}, page_content=\"So I know the anxieties that are out there right now. They're not new. These struggles are the reason I ran for president. These struggles are what I've witnessed for years in places like Elkhart, Ind., and Galesburg, Ill. I hear about them in the letters that I read each night. The toughest to read are those written by children asking why they have to move from their home, or when their mom or dad will be able to go back to work.\\n\\nFor these Americans and so many others, change has not come fast enough. Some are frustrated; some are angry. They don't understand why it seems like bad behavior on Wall Street is rewarded but hard work on Main Street isn't, or why Washington has been unable or unwilling to solve any of our problems. They are tired of the partisanship and the shouting and the pettiness. They know we can't afford it. Not now.\"), Document(metadata={}, page_content='So we face big and difficult challenges. And what the American people hope what they deserve is for all of us, Democrats and Republicans, to work through our differences, to overcome the numbing weight of our politics. For while the people who sent us here have different backgrounds, different stories and different beliefs, the anxieties they face are the same. The aspirations they hold are shared: a job that pays the bills, a chance to get ahead. Most of all, the ability to give their children a better life.\\n\\nYou know what else they share? They share a stubborn resilience in the face of adversity. After one of the most difficult years in our history, they remain busy building cars and teaching kids, starting businesses and going back to school. They\\'re coaching Little League and helping their neighbors. As one woman wrote me, \"We are strained but hopeful, struggling but encouraged.\"'), Document(metadata={}, page_content=\"It is because of this spirit, this great decency and great strength that I have never been more hopeful about America's future than I am tonight. Despite our hardships, our union is strong. We do not give up. We do not quit. We do not allow fear or division to break our spirit. In this new decade, it's time the American people get a government that matches their decency, that embodies their strength.\\n\\nAnd tonight, I'd like to talk about how together, we can deliver on that promise.\\n\\nIt begins with our economy.\\n\\nOur most urgent task upon taking office was to shore up the same banks that helped cause this crisis. It was not easy to do. And if there's one thing that has unified Democrats and Republicans, it's that we all hated the bank bailout. I hated it. You hated it. It was about as popular as a root canal.\"), Document(metadata={}, page_content=\"But when I ran for president, I promised I wouldn't just do what was popular -- I would do what was necessary. And if we had allowed the meltdown of the financial system, unemployment might be double what it is today. More businesses would certainly have closed. More homes would have surely been lost.\\n\\nSo I supported the last administration's efforts to create the financial rescue program. And when we took the program over, we made it more transparent and accountable. As a result, the markets are now stabilized, and we have recovered most of the money we spent on the banks.\\n\\nTo recover the rest, I have proposed a fee on the biggest banks. I know Wall Street isn't keen on this idea, but if these firms can afford to hand out big bonuses again, they can afford a modest fee to pay back the taxpayers who rescued them in their time of need.\"), Document(metadata={}, page_content=\"As we stabilized the financial system, we also took steps to get our economy growing again, save as many jobs as possible and help Americans who had become unemployed.\\n\\nThat's why we extended or increased unemployment benefits for more than 18 million Americans, made health insurance 65 percent cheaper for families who get their coverage through COBRA and passed 25 different tax cuts.\\n\\nLet me repeat: we cut taxes. We cut taxes for 95 percent of working families. We cut taxes for small businesses. We cut taxes for first-time homebuyers. We cut taxes for parents trying to care for their children. We cut taxes for 8 million Americans paying for college. As a result, millions of Americans had more to spend on gas, and food and other necessities, all of which helped businesses keep more workers. And we haven't raised income taxes by a single dime on a single person. Not a single dime.\"), Document(metadata={}, page_content=\"Because of the steps we took, there are about 2 million Americans working right now who would otherwise be unemployed -- 200,000 work in construction and clean energy, 300,000 are teachers and other education workers, tens of thousands are cops, firefighters, correctional officers and first responders. And we are on track to add another one-and-a-half-million jobs to this total by the end of the year.\\n\\nThe plan that has made all of this possible, from the tax cuts to the jobs, is the Recovery Act. That's right -- the Recovery Act, also known as the stimulus bill. Economists on the left and the right say that this bill has helped saved jobs and avert disaster. But you don't have to take their word for it.\\n\\nTalk to the small business in Phoenix that will triple its work force because of the Recovery Act.\"), Document(metadata={}, page_content=\"Talk to the small business in Phoenix that will triple its work force because of the Recovery Act.\\n\\nTalk to the window manufacturer in Philadelphia who said he used to be skeptical about the Recovery Act, until he had to add two more work shifts just because of the business it created.\\n\\nTalk to the single teacher raising two kids who was told by her principal in the last week of school that because of the Recovery Act, she wouldn't be laid off after all.\\n\\nThere are stories like this all across America. And after two years of recession, the economy is growing again. Retirement funds have started to gain back some of their value. Businesses are beginning to invest again, and slowly some are starting to hire again.\"), Document(metadata={}, page_content=\"But I realize that for every success story, there are other stories, of men and women who wake up with the anguish of not knowing where their next paycheck will come from -- who send out resumes week after week and hear nothing in response. That is why jobs must be our number one focus in 2010, and that is why I am calling for a new jobs bill tonight.\\n\\nNow, the true engine of job creation in this country will always be America's businesses. But government can create the conditions necessary for businesses to expand and hire more workers.\\n\\nWe should start where most new jobs do -- in small businesses, companies that begin when an entrepreneur takes a chance on a dream or a worker decides it's time she became her own boss.\"), Document(metadata={}, page_content=\"Through sheer grit and determination, these companies have weathered the recession and are ready to grow. But when you talk to small business owners in places like Allentown, Pa., or Elyria, Ohio, you find out that even though banks on Wall Street are lending again, they are mostly lending to bigger companies. But financing remains difficult for small business owners across the country.\\n\\nSo tonight, I'm proposing that we take $30 billion of the money Wall Street banks have repaid and use it to help community banks give small businesses the credit they need to stay afloat. I am also proposing a new small business tax credit -- one that will go to over 1 million small businesses who hire new workers or raise wages. While we're at it, let's also eliminate all capital gains taxes on small business investment and provide a tax incentive for all businesses, large and small, to invest in new plants and equipment.\"), Document(metadata={}, page_content=\"Next, we can put Americans to work today building the infrastructure of tomorrow. From the first railroads to the interstate highway system, our nation has always been built to compete. There's no reason Europe or China should have the fastest trains or the new factories that manufacture clean energy products.\\n\\nTomorrow, I'll visit Tampa, Fla., where workers will soon break ground on a new high-speed railroad funded by the Recovery Act. There are projects like that all across this country that will create jobs and help our nation move goods, services and information. We should put more Americans to work building clean energy facilities and give rebates to Americans who make their homes more energy efficient, which supports clean energy jobs. And to encourage these and other businesses to stay within our borders, it's time to finally slash the tax breaks for companies that ship our jobs overseas and give those tax breaks to companies that create jobs in the United States of America.\"), Document(metadata={}, page_content=\"The House has passed a jobs bill that includes some of these steps. As the first order of business this year, I urge the Senate to do the same. People are out of work. They are hurting. They need our help. And I want a jobs bill on my desk without delay.\\n\\nBut the truth is, these steps still won't make up for the 7 million jobs we've lost over the last two years. The only way to move to full employment is to lay a new foundation for long-term economic growth and finally address the problems that America's families have confronted for years.\\n\\nWe cannot afford another so-called economic expansion like the one from last decade -- what some call the lost decade -- where jobs grew more slowly than during any prior expansion, where the income of the average American household declined while the cost of health care and tuition reached record highs, where prosperity was built on a housing bubble and financial speculation.\"), Document(metadata={}, page_content=\"From the day I took office, I have been told that addressing our larger challenges is too ambitious -- that such efforts would be too contentious, that our political system is too gridlocked and that we should just put things on hold for a while.\\n\\nFor those who make these claims, I have one simple question:\\n\\nHow long should we wait? How long should America put its future on hold?\\n\\nYou see, Washington has been telling us to wait for decades, even as the problems have grown worse. Meanwhile, China's not waiting to revamp its economy; Germany's not waiting; India's not waiting. These nations aren't standing still. These nations aren't playing for second place. They're putting more emphasis on math and science. They're rebuilding their infrastructure. They are making serious investments in clean energy because they want those jobs.\"), Document(metadata={}, page_content=\"Well I do not accept second place for the United States of America. As hard as it may be, as uncomfortable and contentious as the debates may be, it's time to get serious about fixing the problems that are hampering our growth.\\n\\nOne place to start is serious financial reform. Look, I am not interested in punishing banks, I'm interested in protecting our economy. A strong, healthy financial market makes it possible for businesses to access credit and create new jobs. It channels the savings of families into investments that raise incomes. But that can only happen if we guard against the same recklessness that nearly brought down our entire economy.\\n\\nWe need to make sure consumers and middle class families have the information they need to make financial decisions. We can't allow financial institutions, including those that take your deposits, to take risks that threaten the whole economy.\"), Document(metadata={}, page_content=\"The House has already passed financial reform with many of these changes. And the lobbyists are already trying to kill it. Well, we cannot let them win this fight. And if the bill that ends up on my desk does not meet the test of real reform, I will send it back.\\n\\nNext, we need to encourage American innovation. Last year, we made the largest investment in basic research funding in history -- an investment that could lead to the world's cheapest solar cells or treatment that kills cancer cells but leaves healthy ones untouched. And no area is more ripe for such innovation than energy. You can see the results of last year's investment in clean energy -- in the North Carolina company that will create 1,200 jobs nationwide helping to make advanced batteries, or in the California business that will put 1,000 people to work making solar panels.\"), Document(metadata={}, page_content='But to create more of these clean energy jobs, we need more production, more efficiency, more incentives. That means building a new generation of safe, clean nuclear power plants in this country. It means making tough decisions about opening new offshore areas for oil and gas development. It means continued investment in advanced biofuels and clean coal technologies. And yes, it means passing a comprehensive energy and climate bill with incentives that will finally make clean energy the profitable kind of energy in America.'), Document(metadata={}, page_content='I am grateful to the House for passing such a bill last year. This year, I am eager to help advance the bipartisan effort in the Senate. I know there have been questions about whether we can afford such changes in a tough economy, and I know that there are those who disagree with the overwhelming scientific evidence on climate change. But even if you doubt the evidence, providing incentives for energy efficiency and clean energy are the right thing to do for our future -- because the nation that leads the clean energy economy will be the nation that leads the global economy. And America must be that nation.'), Document(metadata={}, page_content=\"Third, we need to export more of our goods. Because the more products we make and sell to other countries, the more jobs we support right here in America. So tonight, we set a new goal: We will double our exports over the next five years, an increase that will support 2 million jobs in America. To help meet this goal, we're launching a national export initiative that will help farmers and small businesses increase their exports and reform export controls consistent with national security.\"), Document(metadata={}, page_content=\"We have to seek new markets aggressively, just as our competitors are. If America sits on the sidelines while other nations sign trade deals, we will lose the chance to create jobs on our shores. But realizing those benefits also means enforcing those agreements so our trading partners play by the rules. And that's why we will continue to shape a Doha trade agreement that opens global markets, and why we will strengthen our trade relations in Asia and with key partners like South Korea, Panama and Colombia.\\n\\nFourth, we need to invest in the skills and education of our people.\"), Document(metadata={}, page_content='Fourth, we need to invest in the skills and education of our people.\\n\\nThis year, we have broken through the stalemate between left and right by launching a national competition to improve our schools. The idea here is simple: Instead of rewarding failure, we only reward success. Instead of funding the status quo, we only invest in reform -- reform that raises student achievement, inspires students to excel in math and science, and turns around failing schools that steal the future of too many young Americans, from rural communities to inner cities. In the 21st century, one of the best anti-poverty programs is a world-class education. In this country, the success of our children cannot depend more on where they live than their potential.'), Document(metadata={}, page_content=\"When we renew the Elementary and Secondary Education Act, we will work with Congress to expand these reforms to all 50 states. Still, in this economy, a high school diploma no longer guarantees a good job. I urge the Senate to follow the House and pass a bill that will revitalize our community colleges, which are a career pathway to the children of so many working families. To make college more affordable, this bill will finally end the unwarranted taxpayer subsidies that go to banks for student loans. Instead, let's take that money and give families a $10,000 tax credit for four years of college and increase Pell Grants. And let's tell another 1 million students that when they graduate, they will be required to pay only 10 percent of their income on student loans, and all of their debt will be forgiven after 20 years -- and forgiven after 10 years if they choose a career in public service. Because in the United States of America, no one should go broke because they chose to go to college. And it's time for colleges and universities to get serious about cutting their own costs -- because they too have a responsibility to help solve this problem.\"), Document(metadata={}, page_content=\"Now, the price of college tuition is just one of the burdens facing the middle class. That's why last year I asked Vice President Biden to chair a task force on middle class families. That's why we're nearly doubling the child care tax credit, and making it easier to save for retirement by giving every worker access to a retirement account and expanding the tax credit for those who start a nest egg. That's why we're working to lift the value of a family's single largest investment -- their home. The steps we took last year to shore up the housing market have allowed millions of Americans to take out new loans and save an average of $1,500 on mortgage payments. This year, we will step up refinancing so that homeowners can move into more affordable mortgages. And it is precisely to relieve the burden on middle-class families that we still need health insurance reform.\"), Document(metadata={}, page_content=\"Now let's be clear -- I did not choose to tackle this issue to get some legislative victory under my belt. And by now it should be fairly obvious that I didn't take on health care because it was good politics.\\n\\nI took on health care because of the stories I've heard from Americans with pre-existing conditions whose lives depend on getting coverage, patients who've been denied coverage and families -- even those with insurance -- who are just one illness away from financial ruin.\"), Document(metadata={}, page_content=\"After nearly a century of trying, we are closer than ever to bringing more security to the lives of so many Americans. The approach we've taken would protect every American from the worst practices of the insurance industry. It would give small businesses and uninsured Americans a chance to choose an affordable health care plan in a competitive market. It would require every insurance plan to cover preventive care. And by the way, I want to acknowledge our first lady, Michelle Obama, who this year is creating a national movement to tackle the epidemic of childhood obesity and make our kids healthier.\"), Document(metadata={}, page_content=\"Our approach would preserve the right of Americans who have insurance to keep their doctor and their plan. It would reduce costs and premiums for millions of families and businesses. And according to the Congressional Budget Office -- the independent organization that both parties have cited as the official scorekeeper for Congress -- our approach would bring down the deficit by as much as $1 trillion over the next two decades.\\n\\nStill, this is a complex issue, and the longer it was debated, the more skeptical people became. I take my share of the blame for not explaining it more clearly to the American people. And I know that with all the lobbying and horse trading, this process left most Americans wondering what's in it for them.\"), Document(metadata={}, page_content=\"But I also know this problem is not going away. By the time I'm finished speaking tonight, more Americans will have lost their health insurance. Millions will lose it this year. Our deficit will grow. Premiums will go up. Patients will be denied the care they need. Small business owners will continue to drop coverage altogether. I will not walk away from these Americans and neither should the people in this chamber.\"), Document(metadata={}, page_content=\"As temperatures cool, I want everyone to take another look at the plan we've proposed. There's a reason why many doctors, nurses and health care experts who know our system best consider this approach a vast improvement over the status quo. But if anyone from either party has a better approach that will bring down premiums, bring down the deficit, cover the uninsured, strengthen Medicare for seniors and stop insurance company abuses, let me know. Here's what I ask of Congress, though: Do not walk away from reform. Not now. Not when we are so close. Let us find a way to come together and finish the job for the American people.\\n\\nNow, even as health care reform would reduce our deficit, it's not enough to dig us out of a massive fiscal hole in which we find ourselves. It's a challenge that makes all others that much harder to solve, and one that's been subject to a lot of political posturing.\"), Document(metadata={}, page_content='So let me start the discussion of government spending by setting the record straight. At the beginning of the last decade, America had a budget surplus of over $200 billion. By the time I took office, we had a one year deficit of over $1 trillion and projected deficits of $8 trillion over the next decade. Most of this was the result of not paying for two wars, two tax cuts and an expensive prescription drug program. On top of that, the effects of the recession put a $3 trillion hole in our budget. That was before I walked in the door.\\n\\nNow if we had taken office in ordinary times, I would have liked nothing more than to start bringing down the deficit. But we took office amid a crisis, and our efforts to prevent a second depression have added another $1 trillion to our national debt.'), Document(metadata={}, page_content=\"I am absolutely convinced that was the right thing to do. But families across the country are tightening their belts and making tough decisions. The federal government should do the same. So tonight, I'm proposing specific steps to pay for the $1 trillion that it took to rescue the economy last year.\\n\\nStarting in 2011, we are prepared to freeze government spending for three years. Spending related to our national security, Medicare, Medicaid and Social Security will not be affected. But all other discretionary government programs will. Like any cash-strapped family, we will work within a budget to invest in what we need and sacrifice what we don't. And if I have to enforce this discipline by veto, I will.\"), Document(metadata={}, page_content=\"We will continue to go through the budget line by line to eliminate programs that we can't afford and don't work. We've already identified $20 billion in savings for next year. To help working families, we will extend our middle-class tax cuts. But at a time of record deficits, we will not continue tax cuts for oil companies, investment fund managers and those making over $250,000 a year. We just can't afford it.\"), Document(metadata={}, page_content=\"Now, even after paying for what we spent on my watch, we will still face the massive deficit we had when I took office. More importantly, the cost of Medicare, Medicaid and Social Security will continue to skyrocket. That's why I've called for a bipartisan fiscal commission, modeled on a proposal by Republican Judd Gregg and Democrat Kent Conrad. This can't be one of those Washington gimmicks that lets us pretend we solved a problem. The commission will have to provide a specific set of solutions by a certain deadline. Yesterday, the Senate blocked a bill that would have created this commission. So I will issue an executive order that will allow us to go forward, because I refuse to pass this problem on to another generation of Americans. And when the vote comes tomorrow, the Senate should restore the pay-as-you-go law that was a big reason why we had record surpluses in the 1990s.\"), Document(metadata={}, page_content=\"I know that some in my own party will argue that we cannot address the deficit or freeze government spending when so many are still hurting. I agree, which is why this freeze will not take effect until next year, when the economy is stronger. But understand -- if we do not take meaningful steps to rein in our debt, it could damage our markets, increase the cost of borrowing and jeopardize our recovery -- all of which could have an even worse effect on our job growth and family incomes.\\n\\nFrom some on the right, I expect we'll hear a different argument -- that if we just make fewer investments in our people, extend tax cuts for wealthier Americans, eliminate more regulations and maintain the status quo on health care, our deficits will go away. The problem is, that's what we did for eight years. That's what helped lead us into this crisis. It's what helped lead to these deficits. And we cannot do it again.\"), Document(metadata={}, page_content=\"Rather than fight the same tired battles that have dominated Washington for decades, it's time to try something new. Let's invest in our people without leaving them a mountain of debt. Let's meet our responsibility to the citizens who sent us here. Let's try common sense.\\n\\nTo do that, we have to recognize that we face more than a deficit of dollars right now. We face a deficit of trust -- deep and corrosive doubts about how Washington works that have been growing for years. To close that credibility gap we must take action on both ends of Pennsylvania Avenue to end the outsized influence of lobbyists; to do our work openly and to give our people the government they deserve.\\n\\nThat's what I came to Washington to do. That's why -- for the first time in history -- my administration posts our White House visitors online. And that's why we've excluded lobbyists from policymaking jobs or seats on federal boards and commissions.\"), Document(metadata={}, page_content=\"But we can't stop there. It's time to require lobbyists to disclose each contact they make on behalf of a client with my administration or Congress. And it's time to put strict limits on the contributions that lobbyists give to candidates for federal office. Last week, the Supreme Court reversed a century of law to open the floodgates for special interests -- including foreign corporations -- to spend without limit in our elections. Well, I don't think American elections should be bankrolled by America's most powerful interests, or worse, by foreign entities. They should be decided by the American people, and that's why I'm urging Democrats and Republicans to pass a bill that helps to right this wrong.\"), Document(metadata={}, page_content=\"I'm also calling on Congress to continue down the path of earmark reform. You have trimmed some of this spending and embraced some meaningful change. But restoring the public trust demands more. For example, some members of Congress post some earmark requests online. Tonight, I'm calling on Congress to publish all earmark requests on a single Web site before there's a vote, so that the American people can see how their money is being spent. Of course, none of these reforms will even happen if we don't also reform how we work with one another.\"), Document(metadata={}, page_content='Now, I am not naive. I never thought the mere fact of my election would usher in peace, harmony and some post-partisan era. I knew that both parties have fed divisions that are deeply entrenched. And on some issues, there are simply philosophical differences that will always cause us to part ways. These disagreements, about the role of government in our lives, about our national priorities and our national security, have been taking place for over 200 years. They are the very essence of our democracy.'), Document(metadata={}, page_content='But what frustrates the American people is a Washington where every day is election day. We cannot wage a perpetual campaign where the only goal is to see who can get the most embarrassing headlines about their opponent -- a belief that if you lose, I win. Neither party should delay or obstruct every single bill just because they can. The confirmation of well-qualified public servants should not be held hostage to the pet projects or grudges of a few individual senators. Washington may think that saying anything about the other side, no matter how false, is just part of the game. But it is precisely such politics that has stopped either party from helping the American people. Worse yet, it is sowing further division among our citizens and further distrust in our government.'), Document(metadata={}, page_content=\"So no, I will not give up on changing the tone of our politics. I know it's an election year. And after last week, it is clear that campaign fever has come even earlier than usual. But we still need to govern. To Democrats, I would remind you that we still have the largest majority in decades, and the people expect us to solve some problems, not run for the hills. And if the Republican leadership is going to insist that 60 votes in the Senate are required to do any business at all in this town, then the responsibility to govern is now yours as well. Just saying no to everything may be good short-term politics, but it's not leadership. We were sent here to serve our citizens, not our ambitions. So let's show the American people that we can do it together. This week, I'll be addressing a meeting of the House Republicans. And I would like to begin monthly meetings with both the Democratic and Republican leadership. I know you can't wait.\"), Document(metadata={}, page_content=\"Throughout our history, no issue has united this country more than our security. Sadly, some of the unity we felt after 9/11 has dissipated. We can argue all we want about who's to blame for this, but I am not interested in relitigating the past. I know that all of us love this country. All of us are committed to its defense. So let's put aside the schoolyard taunts about who is tough. Let's reject the false choice between protecting our people and upholding our values. Let's leave behind the fear and division and do what it takes to defend our nation and forge a more hopeful future -- for America and the world.\"), Document(metadata={}, page_content=\"That is the work we began last year. Since the day I took office, we have renewed our focus on the terrorists who threaten our nation. We have made substantial investments in our homeland security and disrupted plots that threatened to take American lives. We are filling unacceptable gaps revealed by the failed Christmas attack, with better airline security and swifter action on our intelligence. We have prohibited torture and strengthened partnerships from the Pacific to South Asia to the Arabian Peninsula. And in the last year, hundreds of al-Qaida's fighters and affiliates, including many senior leaders, have been captured or killed -- far more than in 2008.\"), Document(metadata={}, page_content='In Afghanistan, we are increasing our troops and training Afghan Security Forces so they can begin to take the lead in July of 2011 and our troops can begin to come home. We will reward good governance, reduce corruption and support the rights of all Afghans -- men and women alike. We are joined by allies and partners who have increased their own commitment, and who will come together tomorrow in London to reaffirm our common purpose. There will be difficult days ahead. But I am confident we will succeed.'), Document(metadata={}, page_content='As we take the fight to al-Qaida, we are responsibly leaving Iraq to its people. As a candidate, I promised that I would end this war, and that is what I am doing as president. We will have all of our combat troops out of Iraq by the end of this August. We will support the Iraqi government as they hold elections, and continue to partner with the Iraqi people to promote regional peace and prosperity. But make no mistake: This war is ending, and all of our troops are coming home. Tonight, all of our men and women in uniform -- in Iraq, Afghanistan and around the world -- must know that they have our respect, our gratitude and our full support. And just as they must have the resources they need in war, we all have a responsibility to support them when they come home. That is why we made the largest increase in investments for veterans in decades. That is why we are building a 21st century VA. And that is why Michelle has joined with Jill Biden to forge a national commitment to support military families.'), Document(metadata={}, page_content=\"Even as we prosecute two wars, we are also confronting perhaps the greatest danger to the American people -- the threat of nuclear weapons. I have embraced the vision of John F. Kennedy and Ronald Reagan through a strategy that reverses the spread of these weapons and seeks a world without them. To reduce our stockpiles and launchers, while ensuring our deterrent, the United States and Russia are completing negotiations on the farthest-reaching arms control treaty in nearly two decades. And at April's nuclear security summit, we will bring 44 nations together behind a clear goal: securing all vulnerable nuclear materials around the world in four years, so that they never fall into the hands of terrorists.\"), Document(metadata={}, page_content=\"These diplomatic efforts have also strengthened our hand in dealing with those nations that insist on violating international agreements in pursuit of these weapons. That is why North Korea now faces increased isolation and stronger sanctions -- sanctions that are being vigorously enforced. That is why the international community is more united, and the Islamic Republic of Iran is more isolated. And as Iran's leaders continue to ignore their obligations, there should be no doubt: They, too, will face growing consequences.\"), Document(metadata={}, page_content='That is the leadership that we are providing -- engagement that advances the common security and prosperity of all people. We are working through the G-20 to sustain a lasting global recovery. We are working with Muslim communities around the world to promote science, education and innovation. We have gone from a bystander to a leader in the fight against climate change. We are helping developing countries to feed themselves and continuing the fight against HIV/AIDS. And we are launching a new initiative that will give us the capacity to respond faster and more effectively to bioterrorism or an infectious disease -- a plan that will counter threats at home and strengthen public health abroad.'), Document(metadata={}, page_content='As we have for over 60 years, America takes these actions because our destiny is connected to those beyond our shores. But we also do it because it is right. That is why, as we meet here tonight, over 10,000 Americans are working with many nations to help the people of Haiti recover and rebuild. That is why we stand with the girl who yearns to go to school in Afghanistan, we support the human rights of the women marching through the streets of Iran, and we advocate for the young man denied a job by corruption in Guinea. For America must always stand on the side of freedom and human dignity.'), Document(metadata={}, page_content=\"Abroad, America's greatest source of strength has always been our ideals. The same is true at home. We find unity in our incredible diversity, drawing on the promise enshrined in our Constitution: the notion that we are all created equal, that no matter who you are or what you look like, if you abide by the law you should be protected by it, that if you adhere to our common values you should be treated no different than anyone else.\"), Document(metadata={}, page_content=\"We must continually renew this promise. My administration has a civil rights division that is once again prosecuting civil rights violations and employment discrimination. We finally strengthened our laws to protect against crimes driven by hate. This year, I will work with Congress and our military to finally repeal the law that denies gay Americans the right to serve the country they love because of who they are. We are going to crack down on violations of equal pay laws -- so that women get equal pay for an equal day's work. And we should continue the work of fixing our broken immigration system -- to secure our borders, enforce our laws and ensure that everyone who plays by the rules can contribute to our economy and enrich our nations.\"), Document(metadata={}, page_content=\"In the end, it is our ideals, our values, that built America -- values that allowed us to forge a nation made up of immigrants from every corner of the globe, values that drive our citizens still. Every day, Americans meet their responsibilities to their families and their employers. Time and again, they lend a hand to their neighbors and give back to their country. They take pride in their labor, and are generous in spirit. These aren't Republican values or Democratic values they're living by, business values or labor values. They are American values.\"), Document(metadata={}, page_content=\"Unfortunately, too many of our citizens have lost faith that our biggest institutions -- our corporations, our media and, yes, our government -- still reflect these same values. Each of these institutions are full of honorable men and women doing important work that helps our country prosper. But each time a CEO rewards himself for failure, or a banker puts the rest of us at risk for his own selfish gain, people's doubts grow. Each time lobbyists game the system or politicians tear each other down instead of lifting this country up, we lose faith. The more that TV pundits reduce serious debates into silly arguments and big issues into sound bites, our citizens turn away.\\n\\nNo wonder there's so much cynicism out there.\\n\\nNo wonder there's so much disappointment.\\n\\nI campaigned on the promise of change -- change we can believe in, the slogan went. And right now, I know there are many Americans who aren't sure if they still believe we can change -- or at least, that I can deliver it.\"), Document(metadata={}, page_content=\"But remember this -- I never suggested that change would be easy or that I can do it alone. Democracy in a nation of 300 million people can be noisy and messy and complicated. And when you try to do big things and make big changes, it stirs passions and controversy. That's just how it is.\\n\\nThose of us in public office can respond to this reality by playing it safe and avoid telling hard truths. We can do what's necessary to keep our poll numbers high and get through the next election instead of doing what's best for the next generation.\\n\\nBut I also know this: If people had made that decision 50 years ago or 100 years ago or 200 years ago, we wouldn't be here tonight. The only reason we are is because generations of Americans were unafraid to do what was hard, to do what was needed even when success was uncertain, to do what it took to keep the dream of this nation alive for their children and grandchildren.\"), Document(metadata={}, page_content='Our administration has had some political setbacks this year and some of them were deserved. But I wake up every day knowing that they are nothing compared to the setbacks that families all across this country have faced this year. And what keeps me going -- what keeps me fighting -- is that despite all these setbacks, that spirit of determination and optimism -- that fundamental decency that has always been at the core of the American people -- lives on. It lives on in the struggling small business owner who wrote to me of his company, \"None of us,\" he said, \"are willing to consider, even slightly, that we might fail.\"\\n\\nIt lives on in the woman who said that even though she and her neighbors have felt the pain of recession, \"We are strong. We are resilient. We are American.\"'), Document(metadata={}, page_content='It lives on in the 8-year-old boy in Louisiana, who just sent me his allowance and asked if I would give it to the people of Haiti. And it lives on in all the Americans who\\'ve dropped everything to go some place they\\'ve never been and pull people they\\'ve never known from rubble, prompting chants of \"USA! USA! USA!\" when another life was saved.\\n\\nThe spirit that has sustained this nation for more than two centuries lives on in you, its people.\\n\\nWe have finished a difficult year. We have come through a difficult decade. But a new year has come. A new decade stretches before us. We don\\'t quit. I don\\'t quit. Let\\'s seize this moment -- to start anew, to carry the dream forward, and to strengthen our union once more.\\n\\nThank you. God Bless You. And God Bless the United States of America.')]\n"
          ]
        }
      ]
    },
    {
      "cell_type": "markdown",
      "source": [
        "#### RecursiveCharacterTextSplit"
      ],
      "metadata": {
        "id": "wI0pb470DyTs"
      }
    },
    {
      "cell_type": "markdown",
      "source": [
        "RecursiveCharacterTextSplit은 재귀적으로 문서를 분할합니다. 먼저, \"\\n\\n\"(줄바꿈)을 기준으로 문서를 분할하고 이렇게 나눈 청크가 여전히 너무 클 경우에 \"\\n\"(문장 단위)을 기준으로 문서를 분할합니다. 그렇게 했을 때에도 청크가 충분히 작아지지 않았다면 문장을 단어 단위로 자르게 되지만, 그렇게까지 세부적인 분할은 자주 필요하지 않습니다.\n",
        "\n",
        "이런 식의 분할 방법은 문장들의 의미를 최대한 보존하는 형태로 분할할 수 있도록 만들고, 그렇기 때문에 다수의 청크를 LLM에 활용함에 있어서 맥락이 유지되도록 하기에 용이합니다."
      ],
      "metadata": {
        "id": "jh5WujvjD5lH"
      }
    },
    {
      "cell_type": "code",
      "source": [
        "from langchain.text_splitter import RecursiveCharacterTextSplitter\n",
        "text_splitter = RecursiveCharacterTextSplitter(\n",
        "    # Set a really small chunk size, just to show.\n",
        "    chunk_size = 1000,\n",
        "    chunk_overlap  = 200,\n",
        "    length_function = len,\n",
        ")"
      ],
      "metadata": {
        "id": "6bX3XKHBD7bg"
      },
      "execution_count": null,
      "outputs": []
    },
    {
      "cell_type": "code",
      "source": [
        "texts = text_splitter.create_documents([state_of_the_union])\n",
        "print(texts[0].page_content)\n",
        "print(len(texts[0].page_content)) # chuck_size 보다 작지만 문맥을 위해 더 작게 짤린 모습\n",
        "\n",
        "print(\"-\"*500)\n",
        "print(texts[1].page_content)"
      ],
      "metadata": {
        "colab": {
          "base_uri": "https://localhost:8080/"
        },
        "id": "KzwoYqhsD-Xb",
        "outputId": "c6d459de-aeff-4809-eaa0-529430b92aa4"
      },
      "execution_count": null,
      "outputs": [
        {
          "output_type": "stream",
          "name": "stdout",
          "text": [
            "Madame Speaker, Vice President Biden, members of Congress, distinguished guests, and fellow Americans:\n",
            "\n",
            "Our Constitution declares that from time to time, the president shall give to Congress information about the state of our union. For 220 years, our leaders have fulfilled this duty. They have done so during periods of prosperity and tranquility. And they have done so in the midst of war and depression; at moments of great strife and great struggle.\n",
            "454\n",
            "--------------------------------------------------------------------------------------------------------------------------------------------------------------------------------------------------------------------------------------------------------------------------------------------------------------------------------------------------------------------------------------------------------------------------------------------------------------------------------------------------------------------\n",
            "It's tempting to look back on these moments and assume that our progress was inevitable, that America was always destined to succeed. But when the Union was turned back at Bull Run and the Allies first landed at Omaha Beach, victory was very much in doubt. When the market crashed on Black Tuesday and civil rights marchers were beaten on Bloody Sunday, the future was anything but certain. These were times that tested the courage of our convictions and the strength of our union. And despite all our divisions and disagreements, our hesitations and our fears, America prevailed because we chose to move forward as one nation and one people.\n",
            "\n",
            "Again, we are tested. And again, we must answer history's call.\n"
          ]
        }
      ]
    },
    {
      "cell_type": "code",
      "source": [
        "char_list = []\n",
        "for i in range(len(texts)):\n",
        "    char_list.append(len(texts[i].page_content))\n",
        "print(char_list)\n",
        "# 다양한 값들도 분할된 모습을 볼 수 있다."
      ],
      "metadata": {
        "colab": {
          "base_uri": "https://localhost:8080/"
        },
        "id": "m851XVTcFLa_",
        "outputId": "881ee8ad-90e7-4a45-f8cc-6f1d1e46126f"
      },
      "execution_count": null,
      "outputs": [
        {
          "output_type": "stream",
          "name": "stdout",
          "text": [
            "[454, 707, 930, 848, 896, 818, 846, 892, 813, 721, 730, 576, 841, 939, 980, 820, 936, 585, 529, 614, 493, 582, 746, 995, 365, 878, 483, 607, 740, 419, 902, 794, 714, 416, 894, 917, 934, 711, 548, 506, 784, 948, 619, 669, 510, 996, 216, 714, 527, 701, 597, 436, 750, 558, 992, 920, 786, 949]\n"
          ]
        }
      ]
    },
    {
      "cell_type": "markdown",
      "source": [
        "#### 토큰 단위 텍스트 분할기"
      ],
      "metadata": {
        "id": "yY8hJ_FcFd2V"
      }
    },
    {
      "cell_type": "markdown",
      "source": [
        "텍스트 분할의 목적은 LLM이 소화할 수 있을 정도의 텍스트만 호출하도록 만드는 것입니다. 따라서 LLM이 소화할 수 있는 양으로 청크를 제한하는 것은 LLM 앱을 개발할 때 필수적인 과정입니다.\n",
        "\n",
        "LLM은 텍스트를 받아들일 때, 정해진 토큰 이상으로 소화할 수 없게 설계되어 있습니다. 따라서 글을 토큰 단위로 분할한다면 최대한 많은 글을 포함하도록 청크를 분할할 수 있습니다.\n",
        "\n",
        "토큰이라는 것은, 텍스트와 달리 Transformer에서 처리하는 방식에 따라서 그 수가 달라질 수 있습니다. 따라서, LLM 앱을 개발하고자 한다면 앱에 얹힐 LLM의 토큰 제한을 파악하고, 해당 LLM이 사용하는 Embedder를 기반으로 토큰 수를 계산해야 합니다. 예를 들어, OpenAI의 GPT 모델은 tiktoken이라는 토크나이저를 기반으로 텍스트를 토큰화합니다. 따라서 tiktoken encoder를 기반으로 텍스트를 토큰화하고, 토큰 수를 기준으로 텍스트를 분할하는 것이 프로덕트 개발의 필수 요소라고 할 수 있습니다.\n",
        "\n",
        "--> GPT 계열 모델은 텍스트를 문자 단위가 아닌 토큰(token) 단위로 쪼개서 학습한다"
      ],
      "metadata": {
        "id": "RBUhea6aFhar"
      }
    },
    {
      "cell_type": "code",
      "source": [
        "!pip install tiktoken"
      ],
      "metadata": {
        "colab": {
          "base_uri": "https://localhost:8080/"
        },
        "id": "w3xU9wzrFfCi",
        "outputId": "9afdec0b-fcb1-4da7-d6bc-b179a6c42178"
      },
      "execution_count": null,
      "outputs": [
        {
          "output_type": "stream",
          "name": "stdout",
          "text": [
            "Requirement already satisfied: tiktoken in /usr/local/lib/python3.11/dist-packages (0.9.0)\n",
            "Requirement already satisfied: regex>=2022.1.18 in /usr/local/lib/python3.11/dist-packages (from tiktoken) (2024.11.6)\n",
            "Requirement already satisfied: requests>=2.26.0 in /usr/local/lib/python3.11/dist-packages (from tiktoken) (2.32.3)\n",
            "Requirement already satisfied: charset-normalizer<4,>=2 in /usr/local/lib/python3.11/dist-packages (from requests>=2.26.0->tiktoken) (3.4.2)\n",
            "Requirement already satisfied: idna<4,>=2.5 in /usr/local/lib/python3.11/dist-packages (from requests>=2.26.0->tiktoken) (3.10)\n",
            "Requirement already satisfied: urllib3<3,>=1.21.1 in /usr/local/lib/python3.11/dist-packages (from requests>=2.26.0->tiktoken) (2.4.0)\n",
            "Requirement already satisfied: certifi>=2017.4.17 in /usr/local/lib/python3.11/dist-packages (from requests>=2.26.0->tiktoken) (2025.4.26)\n"
          ]
        }
      ]
    },
    {
      "cell_type": "code",
      "source": [
        "import tiktoken\n",
        "tokenizer = tiktoken.get_encoding(\"cl100k_base\")\n",
        "\n",
        "def tiktoken_len(text):\n",
        "    tokens = tokenizer.encode(text)\n",
        "    return len(tokens)"
      ],
      "metadata": {
        "id": "G1hFoXQsF8de"
      },
      "execution_count": null,
      "outputs": []
    },
    {
      "cell_type": "code",
      "source": [
        "tiktoken_len(texts[1].page_content)"
      ],
      "metadata": {
        "colab": {
          "base_uri": "https://localhost:8080/"
        },
        "id": "PGjLyh28GDz9",
        "outputId": "93f8716f-d250-434e-b9e3-4010962422e9"
      },
      "execution_count": null,
      "outputs": [
        {
          "output_type": "execute_result",
          "data": {
            "text/plain": [
              "139"
            ]
          },
          "metadata": {},
          "execution_count": 76
        }
      ]
    },
    {
      "cell_type": "code",
      "source": [
        "token_list = []\n",
        "for i in range(len(texts)):\n",
        "    token_list.append(tiktoken_len(texts[i].page_content))\n",
        "print(token_list)"
      ],
      "metadata": {
        "colab": {
          "base_uri": "https://localhost:8080/"
        },
        "id": "1btJvpO4GpuQ",
        "outputId": "67be274e-cbe9-4746-dcad-b12e02e91bdf"
      },
      "execution_count": null,
      "outputs": [
        {
          "output_type": "stream",
          "name": "stdout",
          "text": [
            "[88, 139, 184, 190, 177, 178, 175, 184, 174, 141, 149, 115, 166, 187, 188, 166, 180, 113, 96, 118, 97, 113, 146, 206, 73, 176, 94, 112, 140, 83, 189, 167, 142, 90, 184, 190, 187, 139, 112, 101, 151, 203, 139, 125, 103, 211, 43, 136, 91, 129, 127, 93, 139, 111, 199, 198, 159, 212]\n"
          ]
        }
      ]
    },
    {
      "cell_type": "markdown",
      "source": [
        "### Text Embedding"
      ],
      "metadata": {
        "id": "9S0kfQP-G5E5"
      }
    },
    {
      "cell_type": "code",
      "source": [
        "pip install openai langchain pypdf tiktoken"
      ],
      "metadata": {
        "colab": {
          "base_uri": "https://localhost:8080/"
        },
        "id": "0nv_b3irHQlR",
        "outputId": "cf3cfa70-099e-40c0-ecac-93e779200186"
      },
      "execution_count": null,
      "outputs": [
        {
          "output_type": "stream",
          "name": "stdout",
          "text": [
            "Requirement already satisfied: openai in /usr/local/lib/python3.11/dist-packages (1.82.1)\n",
            "Requirement already satisfied: langchain in /usr/local/lib/python3.11/dist-packages (0.3.25)\n",
            "Requirement already satisfied: pypdf in /usr/local/lib/python3.11/dist-packages (5.6.0)\n",
            "Requirement already satisfied: tiktoken in /usr/local/lib/python3.11/dist-packages (0.9.0)\n",
            "Requirement already satisfied: anyio<5,>=3.5.0 in /usr/local/lib/python3.11/dist-packages (from openai) (4.9.0)\n",
            "Requirement already satisfied: distro<2,>=1.7.0 in /usr/local/lib/python3.11/dist-packages (from openai) (1.9.0)\n",
            "Requirement already satisfied: httpx<1,>=0.23.0 in /usr/local/lib/python3.11/dist-packages (from openai) (0.28.1)\n",
            "Requirement already satisfied: jiter<1,>=0.4.0 in /usr/local/lib/python3.11/dist-packages (from openai) (0.10.0)\n",
            "Requirement already satisfied: pydantic<3,>=1.9.0 in /usr/local/lib/python3.11/dist-packages (from openai) (2.11.5)\n",
            "Requirement already satisfied: sniffio in /usr/local/lib/python3.11/dist-packages (from openai) (1.3.1)\n",
            "Requirement already satisfied: tqdm>4 in /usr/local/lib/python3.11/dist-packages (from openai) (4.67.1)\n",
            "Requirement already satisfied: typing-extensions<5,>=4.11 in /usr/local/lib/python3.11/dist-packages (from openai) (4.13.2)\n",
            "Requirement already satisfied: langchain-core<1.0.0,>=0.3.58 in /usr/local/lib/python3.11/dist-packages (from langchain) (0.3.63)\n",
            "Requirement already satisfied: langchain-text-splitters<1.0.0,>=0.3.8 in /usr/local/lib/python3.11/dist-packages (from langchain) (0.3.8)\n",
            "Requirement already satisfied: langsmith<0.4,>=0.1.17 in /usr/local/lib/python3.11/dist-packages (from langchain) (0.3.43)\n",
            "Requirement already satisfied: SQLAlchemy<3,>=1.4 in /usr/local/lib/python3.11/dist-packages (from langchain) (2.0.41)\n",
            "Requirement already satisfied: requests<3,>=2 in /usr/local/lib/python3.11/dist-packages (from langchain) (2.32.3)\n",
            "Requirement already satisfied: PyYAML>=5.3 in /usr/local/lib/python3.11/dist-packages (from langchain) (6.0.2)\n",
            "Requirement already satisfied: regex>=2022.1.18 in /usr/local/lib/python3.11/dist-packages (from tiktoken) (2024.11.6)\n",
            "Requirement already satisfied: idna>=2.8 in /usr/local/lib/python3.11/dist-packages (from anyio<5,>=3.5.0->openai) (3.10)\n",
            "Requirement already satisfied: certifi in /usr/local/lib/python3.11/dist-packages (from httpx<1,>=0.23.0->openai) (2025.4.26)\n",
            "Requirement already satisfied: httpcore==1.* in /usr/local/lib/python3.11/dist-packages (from httpx<1,>=0.23.0->openai) (1.0.9)\n",
            "Requirement already satisfied: h11>=0.16 in /usr/local/lib/python3.11/dist-packages (from httpcore==1.*->httpx<1,>=0.23.0->openai) (0.16.0)\n",
            "Requirement already satisfied: tenacity!=8.4.0,<10.0.0,>=8.1.0 in /usr/local/lib/python3.11/dist-packages (from langchain-core<1.0.0,>=0.3.58->langchain) (9.1.2)\n",
            "Requirement already satisfied: jsonpatch<2.0,>=1.33 in /usr/local/lib/python3.11/dist-packages (from langchain-core<1.0.0,>=0.3.58->langchain) (1.33)\n",
            "Requirement already satisfied: packaging<25,>=23.2 in /usr/local/lib/python3.11/dist-packages (from langchain-core<1.0.0,>=0.3.58->langchain) (24.2)\n",
            "Requirement already satisfied: orjson<4.0.0,>=3.9.14 in /usr/local/lib/python3.11/dist-packages (from langsmith<0.4,>=0.1.17->langchain) (3.10.18)\n",
            "Requirement already satisfied: requests-toolbelt<2.0.0,>=1.0.0 in /usr/local/lib/python3.11/dist-packages (from langsmith<0.4,>=0.1.17->langchain) (1.0.0)\n",
            "Requirement already satisfied: zstandard<0.24.0,>=0.23.0 in /usr/local/lib/python3.11/dist-packages (from langsmith<0.4,>=0.1.17->langchain) (0.23.0)\n",
            "Requirement already satisfied: annotated-types>=0.6.0 in /usr/local/lib/python3.11/dist-packages (from pydantic<3,>=1.9.0->openai) (0.7.0)\n",
            "Requirement already satisfied: pydantic-core==2.33.2 in /usr/local/lib/python3.11/dist-packages (from pydantic<3,>=1.9.0->openai) (2.33.2)\n",
            "Requirement already satisfied: typing-inspection>=0.4.0 in /usr/local/lib/python3.11/dist-packages (from pydantic<3,>=1.9.0->openai) (0.4.1)\n",
            "Requirement already satisfied: charset-normalizer<4,>=2 in /usr/local/lib/python3.11/dist-packages (from requests<3,>=2->langchain) (3.4.2)\n",
            "Requirement already satisfied: urllib3<3,>=1.21.1 in /usr/local/lib/python3.11/dist-packages (from requests<3,>=2->langchain) (2.4.0)\n",
            "Requirement already satisfied: greenlet>=1 in /usr/local/lib/python3.11/dist-packages (from SQLAlchemy<3,>=1.4->langchain) (3.2.2)\n",
            "Requirement already satisfied: jsonpointer>=1.9 in /usr/local/lib/python3.11/dist-packages (from jsonpatch<2.0,>=1.33->langchain-core<1.0.0,>=0.3.58->langchain) (3.0.0)\n"
          ]
        }
      ]
    },
    {
      "cell_type": "code",
      "source": [
        "pip install langchain langchain-community langchain-openai"
      ],
      "metadata": {
        "colab": {
          "base_uri": "https://localhost:8080/"
        },
        "id": "tCnCMw_LHnWv",
        "outputId": "3c66302d-af13-492e-9957-9e170ce0d4b3"
      },
      "execution_count": null,
      "outputs": [
        {
          "output_type": "stream",
          "name": "stdout",
          "text": [
            "Requirement already satisfied: langchain in /usr/local/lib/python3.11/dist-packages (0.3.25)\n",
            "Requirement already satisfied: langchain-community in /usr/local/lib/python3.11/dist-packages (0.3.24)\n",
            "Requirement already satisfied: langchain-openai in /usr/local/lib/python3.11/dist-packages (0.3.19)\n",
            "Requirement already satisfied: langchain-core<1.0.0,>=0.3.58 in /usr/local/lib/python3.11/dist-packages (from langchain) (0.3.63)\n",
            "Requirement already satisfied: langchain-text-splitters<1.0.0,>=0.3.8 in /usr/local/lib/python3.11/dist-packages (from langchain) (0.3.8)\n",
            "Requirement already satisfied: langsmith<0.4,>=0.1.17 in /usr/local/lib/python3.11/dist-packages (from langchain) (0.3.43)\n",
            "Requirement already satisfied: pydantic<3.0.0,>=2.7.4 in /usr/local/lib/python3.11/dist-packages (from langchain) (2.11.5)\n",
            "Requirement already satisfied: SQLAlchemy<3,>=1.4 in /usr/local/lib/python3.11/dist-packages (from langchain) (2.0.41)\n",
            "Requirement already satisfied: requests<3,>=2 in /usr/local/lib/python3.11/dist-packages (from langchain) (2.32.3)\n",
            "Requirement already satisfied: PyYAML>=5.3 in /usr/local/lib/python3.11/dist-packages (from langchain) (6.0.2)\n",
            "Requirement already satisfied: aiohttp<4.0.0,>=3.8.3 in /usr/local/lib/python3.11/dist-packages (from langchain-community) (3.11.15)\n",
            "Requirement already satisfied: tenacity!=8.4.0,<10,>=8.1.0 in /usr/local/lib/python3.11/dist-packages (from langchain-community) (9.1.2)\n",
            "Requirement already satisfied: dataclasses-json<0.7,>=0.5.7 in /usr/local/lib/python3.11/dist-packages (from langchain-community) (0.6.7)\n",
            "Requirement already satisfied: pydantic-settings<3.0.0,>=2.4.0 in /usr/local/lib/python3.11/dist-packages (from langchain-community) (2.9.1)\n",
            "Requirement already satisfied: httpx-sse<1.0.0,>=0.4.0 in /usr/local/lib/python3.11/dist-packages (from langchain-community) (0.4.0)\n",
            "Requirement already satisfied: numpy>=1.26.2 in /usr/local/lib/python3.11/dist-packages (from langchain-community) (2.0.2)\n",
            "Requirement already satisfied: openai<2.0.0,>=1.68.2 in /usr/local/lib/python3.11/dist-packages (from langchain-openai) (1.82.1)\n",
            "Requirement already satisfied: tiktoken<1,>=0.7 in /usr/local/lib/python3.11/dist-packages (from langchain-openai) (0.9.0)\n",
            "Requirement already satisfied: aiohappyeyeballs>=2.3.0 in /usr/local/lib/python3.11/dist-packages (from aiohttp<4.0.0,>=3.8.3->langchain-community) (2.6.1)\n",
            "Requirement already satisfied: aiosignal>=1.1.2 in /usr/local/lib/python3.11/dist-packages (from aiohttp<4.0.0,>=3.8.3->langchain-community) (1.3.2)\n",
            "Requirement already satisfied: attrs>=17.3.0 in /usr/local/lib/python3.11/dist-packages (from aiohttp<4.0.0,>=3.8.3->langchain-community) (25.3.0)\n",
            "Requirement already satisfied: frozenlist>=1.1.1 in /usr/local/lib/python3.11/dist-packages (from aiohttp<4.0.0,>=3.8.3->langchain-community) (1.6.0)\n",
            "Requirement already satisfied: multidict<7.0,>=4.5 in /usr/local/lib/python3.11/dist-packages (from aiohttp<4.0.0,>=3.8.3->langchain-community) (6.4.4)\n",
            "Requirement already satisfied: propcache>=0.2.0 in /usr/local/lib/python3.11/dist-packages (from aiohttp<4.0.0,>=3.8.3->langchain-community) (0.3.1)\n",
            "Requirement already satisfied: yarl<2.0,>=1.17.0 in /usr/local/lib/python3.11/dist-packages (from aiohttp<4.0.0,>=3.8.3->langchain-community) (1.20.0)\n",
            "Requirement already satisfied: marshmallow<4.0.0,>=3.18.0 in /usr/local/lib/python3.11/dist-packages (from dataclasses-json<0.7,>=0.5.7->langchain-community) (3.26.1)\n",
            "Requirement already satisfied: typing-inspect<1,>=0.4.0 in /usr/local/lib/python3.11/dist-packages (from dataclasses-json<0.7,>=0.5.7->langchain-community) (0.9.0)\n",
            "Requirement already satisfied: jsonpatch<2.0,>=1.33 in /usr/local/lib/python3.11/dist-packages (from langchain-core<1.0.0,>=0.3.58->langchain) (1.33)\n",
            "Requirement already satisfied: packaging<25,>=23.2 in /usr/local/lib/python3.11/dist-packages (from langchain-core<1.0.0,>=0.3.58->langchain) (24.2)\n",
            "Requirement already satisfied: typing-extensions>=4.7 in /usr/local/lib/python3.11/dist-packages (from langchain-core<1.0.0,>=0.3.58->langchain) (4.13.2)\n",
            "Requirement already satisfied: httpx<1,>=0.23.0 in /usr/local/lib/python3.11/dist-packages (from langsmith<0.4,>=0.1.17->langchain) (0.28.1)\n",
            "Requirement already satisfied: orjson<4.0.0,>=3.9.14 in /usr/local/lib/python3.11/dist-packages (from langsmith<0.4,>=0.1.17->langchain) (3.10.18)\n",
            "Requirement already satisfied: requests-toolbelt<2.0.0,>=1.0.0 in /usr/local/lib/python3.11/dist-packages (from langsmith<0.4,>=0.1.17->langchain) (1.0.0)\n",
            "Requirement already satisfied: zstandard<0.24.0,>=0.23.0 in /usr/local/lib/python3.11/dist-packages (from langsmith<0.4,>=0.1.17->langchain) (0.23.0)\n",
            "Requirement already satisfied: anyio<5,>=3.5.0 in /usr/local/lib/python3.11/dist-packages (from openai<2.0.0,>=1.68.2->langchain-openai) (4.9.0)\n",
            "Requirement already satisfied: distro<2,>=1.7.0 in /usr/local/lib/python3.11/dist-packages (from openai<2.0.0,>=1.68.2->langchain-openai) (1.9.0)\n",
            "Requirement already satisfied: jiter<1,>=0.4.0 in /usr/local/lib/python3.11/dist-packages (from openai<2.0.0,>=1.68.2->langchain-openai) (0.10.0)\n",
            "Requirement already satisfied: sniffio in /usr/local/lib/python3.11/dist-packages (from openai<2.0.0,>=1.68.2->langchain-openai) (1.3.1)\n",
            "Requirement already satisfied: tqdm>4 in /usr/local/lib/python3.11/dist-packages (from openai<2.0.0,>=1.68.2->langchain-openai) (4.67.1)\n",
            "Requirement already satisfied: annotated-types>=0.6.0 in /usr/local/lib/python3.11/dist-packages (from pydantic<3.0.0,>=2.7.4->langchain) (0.7.0)\n",
            "Requirement already satisfied: pydantic-core==2.33.2 in /usr/local/lib/python3.11/dist-packages (from pydantic<3.0.0,>=2.7.4->langchain) (2.33.2)\n",
            "Requirement already satisfied: typing-inspection>=0.4.0 in /usr/local/lib/python3.11/dist-packages (from pydantic<3.0.0,>=2.7.4->langchain) (0.4.1)\n",
            "Requirement already satisfied: python-dotenv>=0.21.0 in /usr/local/lib/python3.11/dist-packages (from pydantic-settings<3.0.0,>=2.4.0->langchain-community) (1.1.0)\n",
            "Requirement already satisfied: charset-normalizer<4,>=2 in /usr/local/lib/python3.11/dist-packages (from requests<3,>=2->langchain) (3.4.2)\n",
            "Requirement already satisfied: idna<4,>=2.5 in /usr/local/lib/python3.11/dist-packages (from requests<3,>=2->langchain) (3.10)\n",
            "Requirement already satisfied: urllib3<3,>=1.21.1 in /usr/local/lib/python3.11/dist-packages (from requests<3,>=2->langchain) (2.4.0)\n",
            "Requirement already satisfied: certifi>=2017.4.17 in /usr/local/lib/python3.11/dist-packages (from requests<3,>=2->langchain) (2025.4.26)\n",
            "Requirement already satisfied: greenlet>=1 in /usr/local/lib/python3.11/dist-packages (from SQLAlchemy<3,>=1.4->langchain) (3.2.2)\n",
            "Requirement already satisfied: regex>=2022.1.18 in /usr/local/lib/python3.11/dist-packages (from tiktoken<1,>=0.7->langchain-openai) (2024.11.6)\n",
            "Requirement already satisfied: httpcore==1.* in /usr/local/lib/python3.11/dist-packages (from httpx<1,>=0.23.0->langsmith<0.4,>=0.1.17->langchain) (1.0.9)\n",
            "Requirement already satisfied: h11>=0.16 in /usr/local/lib/python3.11/dist-packages (from httpcore==1.*->httpx<1,>=0.23.0->langsmith<0.4,>=0.1.17->langchain) (0.16.0)\n",
            "Requirement already satisfied: jsonpointer>=1.9 in /usr/local/lib/python3.11/dist-packages (from jsonpatch<2.0,>=1.33->langchain-core<1.0.0,>=0.3.58->langchain) (3.0.0)\n",
            "Requirement already satisfied: mypy-extensions>=0.3.0 in /usr/local/lib/python3.11/dist-packages (from typing-inspect<1,>=0.4.0->dataclasses-json<0.7,>=0.5.7->langchain-community) (1.1.0)\n"
          ]
        }
      ]
    },
    {
      "cell_type": "code",
      "source": [
        "from langchain.embeddings import OpenAIEmbeddings"
      ],
      "metadata": {
        "id": "E3f13iLQHdj3"
      },
      "execution_count": null,
      "outputs": []
    },
    {
      "cell_type": "code",
      "source": [
        "import os\n",
        "from langchain.embeddings import OpenAIEmbeddings\n",
        "\n",
        "# api_key = os.getenv(\"OPENAI_API_KEY\") Colab 환경에서는 내 로컬 pc에 시스템 변수 접근 불가\n",
        "os.environ[\"OPENAI_API_KEY\"] = \"Your Api Key\"\n"
      ],
      "metadata": {
        "id": "s0Ypwe0cHOIU"
      },
      "execution_count": null,
      "outputs": []
    },
    {
      "cell_type": "code",
      "source": [
        "api_key = os.getenv(\"OPENAI_API_KEY\")\n",
        "embeddings_model = OpenAIEmbeddings(openai_api_key=api_key) # 코랩 사용시 API 관리 중요"
      ],
      "metadata": {
        "id": "gVacdocMH3kr"
      },
      "execution_count": null,
      "outputs": []
    },
    {
      "cell_type": "code",
      "source": [
        "embeddings = embeddings_model.embed_documents(\n",
        "    [\n",
        "        \"안녕하세요\",\n",
        "        \"제 이름은 홍길동입니다.\",\n",
        "        \"이름이 무엇인가요?\",\n",
        "        \"랭체인은 유용합니다.\",\n",
        "        \"Hello World!\"\n",
        "    ]\n",
        ")\n",
        "len(embeddings), len(embeddings[0])\n",
        "# 질문들 5개를 1536 차원으로 Embedding"
      ],
      "metadata": {
        "colab": {
          "base_uri": "https://localhost:8080/"
        },
        "id": "F6VhriAfIBM3",
        "outputId": "76445861-1797-4c97-d494-0821ae27a5f0"
      },
      "execution_count": null,
      "outputs": [
        {
          "output_type": "execute_result",
          "data": {
            "text/plain": [
              "(5, 1536)"
            ]
          },
          "metadata": {},
          "execution_count": 83
        }
      ]
    },
    {
      "cell_type": "code",
      "source": [
        "embedded_query_q = embeddings_model.embed_query(\"이 대화에서 언급된 이름은 무엇입니까?\")\n",
        "embedded_query_a = embeddings_model.embed_query(\"이 대화에서 언급된 이름은 홍길동입니다.\")\n",
        "print(len(embedded_query_q), len(embedded_query_a))"
      ],
      "metadata": {
        "colab": {
          "base_uri": "https://localhost:8080/"
        },
        "id": "syL0GRsgzMJL",
        "outputId": "78b33963-bd01-4912-e6c8-32c9232cc027"
      },
      "execution_count": null,
      "outputs": [
        {
          "output_type": "stream",
          "name": "stdout",
          "text": [
            "1536 1536\n"
          ]
        }
      ]
    },
    {
      "cell_type": "code",
      "source": [
        "from numpy import dot\n",
        "from numpy.linalg import norm\n",
        "import numpy as np\n",
        "\n",
        "def cos_sim(A, B):\n",
        "       return dot(A, B)/(norm(A)*norm(B)) # Cos 유사도를 이용해 가장 비슷한 벡터 답안 계산"
      ],
      "metadata": {
        "id": "qxcmcdqCzVjp"
      },
      "execution_count": null,
      "outputs": []
    },
    {
      "cell_type": "code",
      "source": [
        "print(cos_sim(embedded_query_q, embedded_query_a))\n",
        "print(cos_sim(embedded_query_q, embeddings[1]))\n",
        "print(cos_sim(embedded_query_q, embeddings[3]))"
      ],
      "metadata": {
        "id": "TCRB7qc-zeKG",
        "colab": {
          "base_uri": "https://localhost:8080/"
        },
        "outputId": "74b2af3d-1109-4884-a441-356b6cafc77f"
      },
      "execution_count": null,
      "outputs": [
        {
          "output_type": "stream",
          "name": "stdout",
          "text": [
            "0.9014128168326816\n",
            "0.8500448401842651\n",
            "0.7753276243070567\n"
          ]
        }
      ]
    },
    {
      "cell_type": "markdown",
      "source": [
        "##### Huggingface Embedding"
      ],
      "metadata": {
        "id": "IaVvDbO5zqbN"
      }
    },
    {
      "cell_type": "code",
      "source": [
        "!pip install sentence_transformers"
      ],
      "metadata": {
        "colab": {
          "base_uri": "https://localhost:8080/"
        },
        "id": "cieYbtK2zuJC",
        "outputId": "15989467-a0ec-4726-ab24-a5d94b22ba66"
      },
      "execution_count": null,
      "outputs": [
        {
          "output_type": "stream",
          "name": "stdout",
          "text": [
            "Requirement already satisfied: sentence_transformers in /usr/local/lib/python3.11/dist-packages (4.1.0)\n",
            "Requirement already satisfied: transformers<5.0.0,>=4.41.0 in /usr/local/lib/python3.11/dist-packages (from sentence_transformers) (4.52.3)\n",
            "Requirement already satisfied: tqdm in /usr/local/lib/python3.11/dist-packages (from sentence_transformers) (4.67.1)\n",
            "Requirement already satisfied: torch>=1.11.0 in /usr/local/lib/python3.11/dist-packages (from sentence_transformers) (2.6.0+cu124)\n",
            "Requirement already satisfied: scikit-learn in /usr/local/lib/python3.11/dist-packages (from sentence_transformers) (1.6.1)\n",
            "Requirement already satisfied: scipy in /usr/local/lib/python3.11/dist-packages (from sentence_transformers) (1.15.3)\n",
            "Requirement already satisfied: huggingface-hub>=0.20.0 in /usr/local/lib/python3.11/dist-packages (from sentence_transformers) (0.32.2)\n",
            "Requirement already satisfied: Pillow in /usr/local/lib/python3.11/dist-packages (from sentence_transformers) (11.2.1)\n",
            "Requirement already satisfied: typing_extensions>=4.5.0 in /usr/local/lib/python3.11/dist-packages (from sentence_transformers) (4.13.2)\n",
            "Requirement already satisfied: filelock in /usr/local/lib/python3.11/dist-packages (from huggingface-hub>=0.20.0->sentence_transformers) (3.18.0)\n",
            "Requirement already satisfied: fsspec>=2023.5.0 in /usr/local/lib/python3.11/dist-packages (from huggingface-hub>=0.20.0->sentence_transformers) (2025.3.2)\n",
            "Requirement already satisfied: packaging>=20.9 in /usr/local/lib/python3.11/dist-packages (from huggingface-hub>=0.20.0->sentence_transformers) (24.2)\n",
            "Requirement already satisfied: pyyaml>=5.1 in /usr/local/lib/python3.11/dist-packages (from huggingface-hub>=0.20.0->sentence_transformers) (6.0.2)\n",
            "Requirement already satisfied: requests in /usr/local/lib/python3.11/dist-packages (from huggingface-hub>=0.20.0->sentence_transformers) (2.32.3)\n",
            "Requirement already satisfied: hf-xet<2.0.0,>=1.1.2 in /usr/local/lib/python3.11/dist-packages (from huggingface-hub>=0.20.0->sentence_transformers) (1.1.2)\n",
            "Requirement already satisfied: networkx in /usr/local/lib/python3.11/dist-packages (from torch>=1.11.0->sentence_transformers) (3.5)\n",
            "Requirement already satisfied: jinja2 in /usr/local/lib/python3.11/dist-packages (from torch>=1.11.0->sentence_transformers) (3.1.6)\n",
            "Requirement already satisfied: nvidia-cuda-nvrtc-cu12==12.4.127 in /usr/local/lib/python3.11/dist-packages (from torch>=1.11.0->sentence_transformers) (12.4.127)\n",
            "Requirement already satisfied: nvidia-cuda-runtime-cu12==12.4.127 in /usr/local/lib/python3.11/dist-packages (from torch>=1.11.0->sentence_transformers) (12.4.127)\n",
            "Requirement already satisfied: nvidia-cuda-cupti-cu12==12.4.127 in /usr/local/lib/python3.11/dist-packages (from torch>=1.11.0->sentence_transformers) (12.4.127)\n",
            "Requirement already satisfied: nvidia-cudnn-cu12==9.1.0.70 in /usr/local/lib/python3.11/dist-packages (from torch>=1.11.0->sentence_transformers) (9.1.0.70)\n",
            "Requirement already satisfied: nvidia-cublas-cu12==12.4.5.8 in /usr/local/lib/python3.11/dist-packages (from torch>=1.11.0->sentence_transformers) (12.4.5.8)\n",
            "Requirement already satisfied: nvidia-cufft-cu12==11.2.1.3 in /usr/local/lib/python3.11/dist-packages (from torch>=1.11.0->sentence_transformers) (11.2.1.3)\n",
            "Requirement already satisfied: nvidia-curand-cu12==10.3.5.147 in /usr/local/lib/python3.11/dist-packages (from torch>=1.11.0->sentence_transformers) (10.3.5.147)\n",
            "Requirement already satisfied: nvidia-cusolver-cu12==11.6.1.9 in /usr/local/lib/python3.11/dist-packages (from torch>=1.11.0->sentence_transformers) (11.6.1.9)\n",
            "Requirement already satisfied: nvidia-cusparse-cu12==12.3.1.170 in /usr/local/lib/python3.11/dist-packages (from torch>=1.11.0->sentence_transformers) (12.3.1.170)\n",
            "Requirement already satisfied: nvidia-cusparselt-cu12==0.6.2 in /usr/local/lib/python3.11/dist-packages (from torch>=1.11.0->sentence_transformers) (0.6.2)\n",
            "Requirement already satisfied: nvidia-nccl-cu12==2.21.5 in /usr/local/lib/python3.11/dist-packages (from torch>=1.11.0->sentence_transformers) (2.21.5)\n",
            "Requirement already satisfied: nvidia-nvtx-cu12==12.4.127 in /usr/local/lib/python3.11/dist-packages (from torch>=1.11.0->sentence_transformers) (12.4.127)\n",
            "Requirement already satisfied: nvidia-nvjitlink-cu12==12.4.127 in /usr/local/lib/python3.11/dist-packages (from torch>=1.11.0->sentence_transformers) (12.4.127)\n",
            "Requirement already satisfied: triton==3.2.0 in /usr/local/lib/python3.11/dist-packages (from torch>=1.11.0->sentence_transformers) (3.2.0)\n",
            "Requirement already satisfied: sympy==1.13.1 in /usr/local/lib/python3.11/dist-packages (from torch>=1.11.0->sentence_transformers) (1.13.1)\n",
            "Requirement already satisfied: mpmath<1.4,>=1.1.0 in /usr/local/lib/python3.11/dist-packages (from sympy==1.13.1->torch>=1.11.0->sentence_transformers) (1.3.0)\n",
            "Requirement already satisfied: numpy>=1.17 in /usr/local/lib/python3.11/dist-packages (from transformers<5.0.0,>=4.41.0->sentence_transformers) (2.0.2)\n",
            "Requirement already satisfied: regex!=2019.12.17 in /usr/local/lib/python3.11/dist-packages (from transformers<5.0.0,>=4.41.0->sentence_transformers) (2024.11.6)\n",
            "Requirement already satisfied: tokenizers<0.22,>=0.21 in /usr/local/lib/python3.11/dist-packages (from transformers<5.0.0,>=4.41.0->sentence_transformers) (0.21.1)\n",
            "Requirement already satisfied: safetensors>=0.4.3 in /usr/local/lib/python3.11/dist-packages (from transformers<5.0.0,>=4.41.0->sentence_transformers) (0.5.3)\n",
            "Requirement already satisfied: joblib>=1.2.0 in /usr/local/lib/python3.11/dist-packages (from scikit-learn->sentence_transformers) (1.5.1)\n",
            "Requirement already satisfied: threadpoolctl>=3.1.0 in /usr/local/lib/python3.11/dist-packages (from scikit-learn->sentence_transformers) (3.6.0)\n",
            "Requirement already satisfied: MarkupSafe>=2.0 in /usr/local/lib/python3.11/dist-packages (from jinja2->torch>=1.11.0->sentence_transformers) (3.0.2)\n",
            "Requirement already satisfied: charset-normalizer<4,>=2 in /usr/local/lib/python3.11/dist-packages (from requests->huggingface-hub>=0.20.0->sentence_transformers) (3.4.2)\n",
            "Requirement already satisfied: idna<4,>=2.5 in /usr/local/lib/python3.11/dist-packages (from requests->huggingface-hub>=0.20.0->sentence_transformers) (3.10)\n",
            "Requirement already satisfied: urllib3<3,>=1.21.1 in /usr/local/lib/python3.11/dist-packages (from requests->huggingface-hub>=0.20.0->sentence_transformers) (2.4.0)\n",
            "Requirement already satisfied: certifi>=2017.4.17 in /usr/local/lib/python3.11/dist-packages (from requests->huggingface-hub>=0.20.0->sentence_transformers) (2025.4.26)\n"
          ]
        }
      ]
    },
    {
      "cell_type": "code",
      "source": [
        "from langchain.embeddings import HuggingFaceBgeEmbeddings\n",
        "\n",
        "model_name = \"BAAI/bge-small-en\"\n",
        "model_kwargs = {'device': 'cpu'}\n",
        "encode_kwargs = {'normalize_embeddings': True}\n",
        "hf = HuggingFaceBgeEmbeddings(\n",
        "    model_name=model_name,\n",
        "    model_kwargs=model_kwargs,\n",
        "    encode_kwargs=encode_kwargs\n",
        ")"
      ],
      "metadata": {
        "id": "7feo78C1zvVz"
      },
      "execution_count": null,
      "outputs": []
    },
    {
      "cell_type": "code",
      "source": [
        "embeddings = hf.embed_documents(\n",
        "    [\n",
        "    \"today is monday\",\n",
        "    \"weather is nice today\",\n",
        "    \"what's the problem?\",\n",
        "    \"langhcain in useful\",\n",
        "    \"Hello World!\",\n",
        "    \"my name is morris\"\n",
        "    ]\n",
        ")\n",
        "for i, emb in enumerate(embeddings):\n",
        "    print(f\"문장 {i+1} 임베딩 길이 {len(emb)}\")"
      ],
      "metadata": {
        "colab": {
          "base_uri": "https://localhost:8080/"
        },
        "id": "zkOSQSJA0hle",
        "outputId": "7b69188f-1c16-43b5-ef68-72c9e32604b8"
      },
      "execution_count": null,
      "outputs": [
        {
          "output_type": "stream",
          "name": "stdout",
          "text": [
            "문장 1 임베딩 길이 384\n",
            "문장 2 임베딩 길이 384\n",
            "문장 3 임베딩 길이 384\n",
            "문장 4 임베딩 길이 384\n",
            "문장 5 임베딩 길이 384\n",
            "문장 6 임베딩 길이 384\n"
          ]
        }
      ]
    },
    {
      "cell_type": "markdown",
      "source": [
        "허킹페이스 임베딩 한 결과 384차원"
      ],
      "metadata": {
        "id": "xJEg7iFS-AhU"
      }
    },
    {
      "cell_type": "code",
      "source": [
        "BGE_query_q = hf.embed_query(\"Hello? who is this?\")\n",
        "BGE_query_a = hf.embed_query(\"hi this is harrison\")\n",
        "\n",
        "print(len(BGE_query_q))\n",
        "print(cos_sim(BGE_query_q, BGE_query_a))\n",
        "print(cos_sim(BGE_query_q, embeddings[1]))\n",
        "print(cos_sim(BGE_query_q, embeddings[5]))"
      ],
      "metadata": {
        "colab": {
          "base_uri": "https://localhost:8080/"
        },
        "id": "faXhLxSV-EVz",
        "outputId": "3e0bf071-aea7-43f7-d05b-b0d12b8504a3"
      },
      "execution_count": null,
      "outputs": [
        {
          "output_type": "stream",
          "name": "stdout",
          "text": [
            "384\n",
            "0.8522539963959582\n",
            "0.7469068258795019\n",
            "0.792870413704442\n"
          ]
        }
      ]
    },
    {
      "cell_type": "code",
      "source": [
        "sentences = [\n",
        "    \"안녕하세요\",\n",
        "    \"제 이름은 홍길동입니다.\",\n",
        "    \"이름이 무엇인가요?\",\n",
        "    \"랭체인은 유용합니다.\",\n",
        "    \"홍길동 아버지의 이름은 홍상직입니다.\"\n",
        "    ]\n",
        "ko_embeddings = hf.embed_documents(sentences)"
      ],
      "metadata": {
        "id": "bAHnOm0R-KUQ"
      },
      "execution_count": null,
      "outputs": []
    },
    {
      "cell_type": "code",
      "source": [
        "BGE_query_q_2 = hf.embed_query(\"홍길동은 아버지를 아버지라 부르지 못하였습니다. 홍길동 아버지의 이름은 무엇입니까?\")\n",
        "BGE_query_a_2 = hf.embed_query(\"홍길동의 아버지는 엄했습니다.\")\n",
        "\n",
        "\n",
        "print(\"질문: 홍길동은 아버지를 아버지라 부르지 못하였습니다. 홍길동 아버지의 이름은 무엇입니까? \\n\", \"-\"*100)\n",
        "print(\"홍길동의 아버지는 엄했습니다. \\t\\t 문장 유사도: \", round(cos_sim(BGE_query_q_2, BGE_query_a_2),2))\n",
        "print(sentences[1] + \"\\t\\t\\t 문장 유사도: \", round(cos_sim(BGE_query_q_2, ko_embeddings[1]),2))\n",
        "print(sentences[3] + \"\\t\\t\\t 문장 유사도: \", round(cos_sim(BGE_query_q_2, ko_embeddings[3]),2))\n",
        "print(sentences[4] + \"\\t 문장 유사도: \", round(cos_sim(BGE_query_q_2, ko_embeddings[4]),2))"
      ],
      "metadata": {
        "colab": {
          "base_uri": "https://localhost:8080/"
        },
        "id": "rAfEZQ0v_C-M",
        "outputId": "414fae28-2671-4137-979d-f161407b15e9"
      },
      "execution_count": null,
      "outputs": [
        {
          "output_type": "stream",
          "name": "stdout",
          "text": [
            "질문: 홍길동은 아버지를 아버지라 부르지 못하였습니다. 홍길동 아버지의 이름은 무엇입니까? \n",
            " ----------------------------------------------------------------------------------------------------\n",
            "홍길동의 아버지는 엄했습니다. \t\t 문장 유사도:  0.95\n",
            "제 이름은 홍길동입니다.\t\t\t 문장 유사도:  0.88\n",
            "랭체인은 유용합니다.\t\t\t 문장 유사도:  0.85\n",
            "홍길동 아버지의 이름은 홍상직입니다.\t 문장 유사도:  0.92\n"
          ]
        }
      ]
    },
    {
      "cell_type": "markdown",
      "source": [
        "##### 한국어 사전학습 모델 임베딩 - ko-sbert-nli"
      ],
      "metadata": {
        "id": "w3AwBYJL_PGj"
      }
    },
    {
      "cell_type": "code",
      "source": [
        "from langchain.embeddings import HuggingFaceEmbeddings\n",
        "\n",
        "model_name = \"jhgan/ko-sbert-nli\"\n",
        "model_kwargs = {'device': 'cpu'}\n",
        "encode_kwargs = {'normalize_embeddings': True}\n",
        "ko = HuggingFaceEmbeddings(\n",
        "    model_name=model_name,\n",
        "    model_kwargs=model_kwargs,\n",
        "    encode_kwargs=encode_kwargs\n",
        ")"
      ],
      "metadata": {
        "id": "KU9ch4p4_QZV"
      },
      "execution_count": null,
      "outputs": []
    },
    {
      "cell_type": "code",
      "source": [
        "sentences = [\n",
        "    \"안녕하세요\",\n",
        "    \"제 이름은 홍길동입니다.\",\n",
        "    \"이름이 무엇인가요?\",\n",
        "    \"랭체인은 유용합니다.\",\n",
        "    \"홍길동 아버지의 이름은 홍상직입니다.\"\n",
        "    ]\n",
        "\n",
        "ko_embeddings = ko.embed_documents(sentences)\n",
        "\n",
        "q = \"홍길동은 아버지를 아버지라 부르지 못하였습니다. 홍길동 아버지의 이름은 무엇입니까?\"\n",
        "a = \"홍길동의 아버지는 엄했습니다.\"\n",
        "ko_query_q = ko.embed_query(q)\n",
        "ko_query_a = ko.embed_query(a)\n",
        "\n",
        "print(\"질문: {} \\n\".format(q), \"-\"*100)\n",
        "print(\"{} \\t\\t 문장 유사도: \".format(a), round(cos_sim(ko_query_q, ko_query_a),2))\n",
        "print(\"{}\\t\\t\\t 문장 유사도: \".format(sentences[1]), round(cos_sim(ko_query_q, ko_embeddings[1]),2))\n",
        "print(\"{}\\t\\t\\t 문장 유사도: \".format(sentences[3]), round(cos_sim(ko_query_q, ko_embeddings[3]),2))\n",
        "print(\"{}\\t 문장 유사도: \".format(sentences[4]), round(cos_sim(ko_query_q, ko_embeddings[4]),2))"
      ],
      "metadata": {
        "colab": {
          "base_uri": "https://localhost:8080/"
        },
        "id": "x3MKigIV_tLi",
        "outputId": "5f11b51b-b86b-4793-9a24-cea9d3105808"
      },
      "execution_count": null,
      "outputs": [
        {
          "output_type": "stream",
          "name": "stdout",
          "text": [
            "질문: 홍길동은 아버지를 아버지라 부르지 못하였습니다. 홍길동 아버지의 이름은 무엇입니까? \n",
            " ----------------------------------------------------------------------------------------------------\n",
            "홍길동의 아버지는 엄했습니다. \t\t 문장 유사도:  0.47\n",
            "제 이름은 홍길동입니다.\t\t\t 문장 유사도:  0.54\n",
            "랭체인은 유용합니다.\t\t\t 문장 유사도:  0.03\n",
            "홍길동 아버지의 이름은 홍상직입니다.\t 문장 유사도:  0.61\n"
          ]
        }
      ]
    },
    {
      "cell_type": "markdown",
      "source": [
        "거짓 answer 값을 주어도 모델이 올바르게 학습한 모습을 볼 수 있었다."
      ],
      "metadata": {
        "id": "ylLmzY2d_5-i"
      }
    },
    {
      "cell_type": "markdown",
      "source": [
        "### VectorStore"
      ],
      "metadata": {
        "id": "_GGQGzXTAzpQ"
      }
    },
    {
      "cell_type": "markdown",
      "source": [
        "VectorStore는 자연어 --> 숫자 처리한 후 이들을 저장하는 벡터 저장소\n",
        "\n",
        "벡터 저장소는 임베딩된 데이터를 인덱싱하여, input으로 받아들이는 query와의 유사도를 빠르게 출력합니다.\n",
        "\n",
        "대표적으로 FAISS, Chroma가 존재합니다."
      ],
      "metadata": {
        "id": "Xgp6a_7pA4UB"
      }
    },
    {
      "cell_type": "markdown",
      "source": [
        "#### Chroma"
      ],
      "metadata": {
        "id": "Lu6GdyZoBIm5"
      }
    },
    {
      "cell_type": "code",
      "source": [
        "!pip install chromadb tiktoken transformers sentence_transformers openai langchain pypdf # 오픈소스 벡터 저장소"
      ],
      "metadata": {
        "colab": {
          "base_uri": "https://localhost:8080/"
        },
        "id": "SZ2xAU6YBKn7",
        "outputId": "18da3404-eaab-4491-a8a4-51776be679e8"
      },
      "execution_count": null,
      "outputs": [
        {
          "output_type": "stream",
          "name": "stdout",
          "text": [
            "Requirement already satisfied: chromadb in /usr/local/lib/python3.11/dist-packages (1.0.12)\n",
            "Requirement already satisfied: tiktoken in /usr/local/lib/python3.11/dist-packages (0.9.0)\n",
            "Requirement already satisfied: transformers in /usr/local/lib/python3.11/dist-packages (4.52.3)\n",
            "Requirement already satisfied: sentence_transformers in /usr/local/lib/python3.11/dist-packages (4.1.0)\n",
            "Requirement already satisfied: openai in /usr/local/lib/python3.11/dist-packages (1.82.1)\n",
            "Requirement already satisfied: langchain in /usr/local/lib/python3.11/dist-packages (0.3.25)\n",
            "Requirement already satisfied: pypdf in /usr/local/lib/python3.11/dist-packages (5.6.0)\n",
            "Requirement already satisfied: build>=1.0.3 in /usr/local/lib/python3.11/dist-packages (from chromadb) (1.2.2.post1)\n",
            "Requirement already satisfied: pydantic>=1.9 in /usr/local/lib/python3.11/dist-packages (from chromadb) (2.11.5)\n",
            "Requirement already satisfied: fastapi==0.115.9 in /usr/local/lib/python3.11/dist-packages (from chromadb) (0.115.9)\n",
            "Requirement already satisfied: uvicorn>=0.18.3 in /usr/local/lib/python3.11/dist-packages (from uvicorn[standard]>=0.18.3->chromadb) (0.34.2)\n",
            "Requirement already satisfied: numpy>=1.22.5 in /usr/local/lib/python3.11/dist-packages (from chromadb) (2.0.2)\n",
            "Requirement already satisfied: posthog>=2.4.0 in /usr/local/lib/python3.11/dist-packages (from chromadb) (4.2.0)\n",
            "Requirement already satisfied: typing-extensions>=4.5.0 in /usr/local/lib/python3.11/dist-packages (from chromadb) (4.13.2)\n",
            "Requirement already satisfied: onnxruntime>=1.14.1 in /usr/local/lib/python3.11/dist-packages (from chromadb) (1.22.0)\n",
            "Requirement already satisfied: opentelemetry-api>=1.2.0 in /usr/local/lib/python3.11/dist-packages (from chromadb) (1.33.1)\n",
            "Requirement already satisfied: opentelemetry-exporter-otlp-proto-grpc>=1.2.0 in /usr/local/lib/python3.11/dist-packages (from chromadb) (1.33.1)\n",
            "Requirement already satisfied: opentelemetry-instrumentation-fastapi>=0.41b0 in /usr/local/lib/python3.11/dist-packages (from chromadb) (0.54b1)\n",
            "Requirement already satisfied: opentelemetry-sdk>=1.2.0 in /usr/local/lib/python3.11/dist-packages (from chromadb) (1.33.1)\n",
            "Requirement already satisfied: tokenizers>=0.13.2 in /usr/local/lib/python3.11/dist-packages (from chromadb) (0.21.1)\n",
            "Requirement already satisfied: pypika>=0.48.9 in /usr/local/lib/python3.11/dist-packages (from chromadb) (0.48.9)\n",
            "Requirement already satisfied: tqdm>=4.65.0 in /usr/local/lib/python3.11/dist-packages (from chromadb) (4.67.1)\n",
            "Requirement already satisfied: overrides>=7.3.1 in /usr/local/lib/python3.11/dist-packages (from chromadb) (7.7.0)\n",
            "Requirement already satisfied: importlib-resources in /usr/local/lib/python3.11/dist-packages (from chromadb) (6.5.2)\n",
            "Requirement already satisfied: grpcio>=1.58.0 in /usr/local/lib/python3.11/dist-packages (from chromadb) (1.71.0)\n",
            "Requirement already satisfied: bcrypt>=4.0.1 in /usr/local/lib/python3.11/dist-packages (from chromadb) (4.3.0)\n",
            "Requirement already satisfied: typer>=0.9.0 in /usr/local/lib/python3.11/dist-packages (from chromadb) (0.16.0)\n",
            "Requirement already satisfied: kubernetes>=28.1.0 in /usr/local/lib/python3.11/dist-packages (from chromadb) (32.0.1)\n",
            "Requirement already satisfied: tenacity>=8.2.3 in /usr/local/lib/python3.11/dist-packages (from chromadb) (9.1.2)\n",
            "Requirement already satisfied: pyyaml>=6.0.0 in /usr/local/lib/python3.11/dist-packages (from chromadb) (6.0.2)\n",
            "Requirement already satisfied: mmh3>=4.0.1 in /usr/local/lib/python3.11/dist-packages (from chromadb) (5.1.0)\n",
            "Requirement already satisfied: orjson>=3.9.12 in /usr/local/lib/python3.11/dist-packages (from chromadb) (3.10.18)\n",
            "Requirement already satisfied: httpx>=0.27.0 in /usr/local/lib/python3.11/dist-packages (from chromadb) (0.28.1)\n",
            "Requirement already satisfied: rich>=10.11.0 in /usr/local/lib/python3.11/dist-packages (from chromadb) (13.9.4)\n",
            "Requirement already satisfied: jsonschema>=4.19.0 in /usr/local/lib/python3.11/dist-packages (from chromadb) (4.24.0)\n",
            "Requirement already satisfied: starlette<0.46.0,>=0.40.0 in /usr/local/lib/python3.11/dist-packages (from fastapi==0.115.9->chromadb) (0.45.3)\n",
            "Requirement already satisfied: regex>=2022.1.18 in /usr/local/lib/python3.11/dist-packages (from tiktoken) (2024.11.6)\n",
            "Requirement already satisfied: requests>=2.26.0 in /usr/local/lib/python3.11/dist-packages (from tiktoken) (2.32.3)\n",
            "Requirement already satisfied: filelock in /usr/local/lib/python3.11/dist-packages (from transformers) (3.18.0)\n",
            "Requirement already satisfied: huggingface-hub<1.0,>=0.30.0 in /usr/local/lib/python3.11/dist-packages (from transformers) (0.32.2)\n",
            "Requirement already satisfied: packaging>=20.0 in /usr/local/lib/python3.11/dist-packages (from transformers) (24.2)\n",
            "Requirement already satisfied: safetensors>=0.4.3 in /usr/local/lib/python3.11/dist-packages (from transformers) (0.5.3)\n",
            "Requirement already satisfied: torch>=1.11.0 in /usr/local/lib/python3.11/dist-packages (from sentence_transformers) (2.6.0+cu124)\n",
            "Requirement already satisfied: scikit-learn in /usr/local/lib/python3.11/dist-packages (from sentence_transformers) (1.6.1)\n",
            "Requirement already satisfied: scipy in /usr/local/lib/python3.11/dist-packages (from sentence_transformers) (1.15.3)\n",
            "Requirement already satisfied: Pillow in /usr/local/lib/python3.11/dist-packages (from sentence_transformers) (11.2.1)\n",
            "Requirement already satisfied: anyio<5,>=3.5.0 in /usr/local/lib/python3.11/dist-packages (from openai) (4.9.0)\n",
            "Requirement already satisfied: distro<2,>=1.7.0 in /usr/local/lib/python3.11/dist-packages (from openai) (1.9.0)\n",
            "Requirement already satisfied: jiter<1,>=0.4.0 in /usr/local/lib/python3.11/dist-packages (from openai) (0.10.0)\n",
            "Requirement already satisfied: sniffio in /usr/local/lib/python3.11/dist-packages (from openai) (1.3.1)\n",
            "Requirement already satisfied: langchain-core<1.0.0,>=0.3.58 in /usr/local/lib/python3.11/dist-packages (from langchain) (0.3.63)\n",
            "Requirement already satisfied: langchain-text-splitters<1.0.0,>=0.3.8 in /usr/local/lib/python3.11/dist-packages (from langchain) (0.3.8)\n",
            "Requirement already satisfied: langsmith<0.4,>=0.1.17 in /usr/local/lib/python3.11/dist-packages (from langchain) (0.3.43)\n",
            "Requirement already satisfied: SQLAlchemy<3,>=1.4 in /usr/local/lib/python3.11/dist-packages (from langchain) (2.0.41)\n",
            "Requirement already satisfied: idna>=2.8 in /usr/local/lib/python3.11/dist-packages (from anyio<5,>=3.5.0->openai) (3.10)\n",
            "Requirement already satisfied: pyproject_hooks in /usr/local/lib/python3.11/dist-packages (from build>=1.0.3->chromadb) (1.2.0)\n",
            "Requirement already satisfied: certifi in /usr/local/lib/python3.11/dist-packages (from httpx>=0.27.0->chromadb) (2025.4.26)\n",
            "Requirement already satisfied: httpcore==1.* in /usr/local/lib/python3.11/dist-packages (from httpx>=0.27.0->chromadb) (1.0.9)\n",
            "Requirement already satisfied: h11>=0.16 in /usr/local/lib/python3.11/dist-packages (from httpcore==1.*->httpx>=0.27.0->chromadb) (0.16.0)\n",
            "Requirement already satisfied: fsspec>=2023.5.0 in /usr/local/lib/python3.11/dist-packages (from huggingface-hub<1.0,>=0.30.0->transformers) (2025.3.2)\n",
            "Requirement already satisfied: hf-xet<2.0.0,>=1.1.2 in /usr/local/lib/python3.11/dist-packages (from huggingface-hub<1.0,>=0.30.0->transformers) (1.1.2)\n",
            "Requirement already satisfied: attrs>=22.2.0 in /usr/local/lib/python3.11/dist-packages (from jsonschema>=4.19.0->chromadb) (25.3.0)\n",
            "Requirement already satisfied: jsonschema-specifications>=2023.03.6 in /usr/local/lib/python3.11/dist-packages (from jsonschema>=4.19.0->chromadb) (2025.4.1)\n",
            "Requirement already satisfied: referencing>=0.28.4 in /usr/local/lib/python3.11/dist-packages (from jsonschema>=4.19.0->chromadb) (0.36.2)\n",
            "Requirement already satisfied: rpds-py>=0.7.1 in /usr/local/lib/python3.11/dist-packages (from jsonschema>=4.19.0->chromadb) (0.25.1)\n",
            "Requirement already satisfied: six>=1.9.0 in /usr/local/lib/python3.11/dist-packages (from kubernetes>=28.1.0->chromadb) (1.17.0)\n",
            "Requirement already satisfied: python-dateutil>=2.5.3 in /usr/local/lib/python3.11/dist-packages (from kubernetes>=28.1.0->chromadb) (2.9.0.post0)\n",
            "Requirement already satisfied: google-auth>=1.0.1 in /usr/local/lib/python3.11/dist-packages (from kubernetes>=28.1.0->chromadb) (2.38.0)\n",
            "Requirement already satisfied: websocket-client!=0.40.0,!=0.41.*,!=0.42.*,>=0.32.0 in /usr/local/lib/python3.11/dist-packages (from kubernetes>=28.1.0->chromadb) (1.8.0)\n",
            "Requirement already satisfied: requests-oauthlib in /usr/local/lib/python3.11/dist-packages (from kubernetes>=28.1.0->chromadb) (2.0.0)\n",
            "Requirement already satisfied: oauthlib>=3.2.2 in /usr/local/lib/python3.11/dist-packages (from kubernetes>=28.1.0->chromadb) (3.2.2)\n",
            "Requirement already satisfied: urllib3>=1.24.2 in /usr/local/lib/python3.11/dist-packages (from kubernetes>=28.1.0->chromadb) (2.4.0)\n",
            "Requirement already satisfied: durationpy>=0.7 in /usr/local/lib/python3.11/dist-packages (from kubernetes>=28.1.0->chromadb) (0.10)\n",
            "Requirement already satisfied: jsonpatch<2.0,>=1.33 in /usr/local/lib/python3.11/dist-packages (from langchain-core<1.0.0,>=0.3.58->langchain) (1.33)\n",
            "Requirement already satisfied: requests-toolbelt<2.0.0,>=1.0.0 in /usr/local/lib/python3.11/dist-packages (from langsmith<0.4,>=0.1.17->langchain) (1.0.0)\n",
            "Requirement already satisfied: zstandard<0.24.0,>=0.23.0 in /usr/local/lib/python3.11/dist-packages (from langsmith<0.4,>=0.1.17->langchain) (0.23.0)\n",
            "Requirement already satisfied: coloredlogs in /usr/local/lib/python3.11/dist-packages (from onnxruntime>=1.14.1->chromadb) (15.0.1)\n",
            "Requirement already satisfied: flatbuffers in /usr/local/lib/python3.11/dist-packages (from onnxruntime>=1.14.1->chromadb) (25.2.10)\n",
            "Requirement already satisfied: protobuf in /usr/local/lib/python3.11/dist-packages (from onnxruntime>=1.14.1->chromadb) (5.29.5)\n",
            "Requirement already satisfied: sympy in /usr/local/lib/python3.11/dist-packages (from onnxruntime>=1.14.1->chromadb) (1.13.1)\n",
            "Requirement already satisfied: deprecated>=1.2.6 in /usr/local/lib/python3.11/dist-packages (from opentelemetry-api>=1.2.0->chromadb) (1.2.18)\n",
            "Requirement already satisfied: importlib-metadata<8.7.0,>=6.0 in /usr/local/lib/python3.11/dist-packages (from opentelemetry-api>=1.2.0->chromadb) (8.6.1)\n",
            "Requirement already satisfied: googleapis-common-protos~=1.52 in /usr/local/lib/python3.11/dist-packages (from opentelemetry-exporter-otlp-proto-grpc>=1.2.0->chromadb) (1.70.0)\n",
            "Requirement already satisfied: opentelemetry-exporter-otlp-proto-common==1.33.1 in /usr/local/lib/python3.11/dist-packages (from opentelemetry-exporter-otlp-proto-grpc>=1.2.0->chromadb) (1.33.1)\n",
            "Requirement already satisfied: opentelemetry-proto==1.33.1 in /usr/local/lib/python3.11/dist-packages (from opentelemetry-exporter-otlp-proto-grpc>=1.2.0->chromadb) (1.33.1)\n",
            "Requirement already satisfied: opentelemetry-instrumentation-asgi==0.54b1 in /usr/local/lib/python3.11/dist-packages (from opentelemetry-instrumentation-fastapi>=0.41b0->chromadb) (0.54b1)\n",
            "Requirement already satisfied: opentelemetry-instrumentation==0.54b1 in /usr/local/lib/python3.11/dist-packages (from opentelemetry-instrumentation-fastapi>=0.41b0->chromadb) (0.54b1)\n",
            "Requirement already satisfied: opentelemetry-semantic-conventions==0.54b1 in /usr/local/lib/python3.11/dist-packages (from opentelemetry-instrumentation-fastapi>=0.41b0->chromadb) (0.54b1)\n",
            "Requirement already satisfied: opentelemetry-util-http==0.54b1 in /usr/local/lib/python3.11/dist-packages (from opentelemetry-instrumentation-fastapi>=0.41b0->chromadb) (0.54b1)\n",
            "Requirement already satisfied: wrapt<2.0.0,>=1.0.0 in /usr/local/lib/python3.11/dist-packages (from opentelemetry-instrumentation==0.54b1->opentelemetry-instrumentation-fastapi>=0.41b0->chromadb) (1.17.2)\n",
            "Requirement already satisfied: asgiref~=3.0 in /usr/local/lib/python3.11/dist-packages (from opentelemetry-instrumentation-asgi==0.54b1->opentelemetry-instrumentation-fastapi>=0.41b0->chromadb) (3.8.1)\n",
            "Requirement already satisfied: backoff>=1.10.0 in /usr/local/lib/python3.11/dist-packages (from posthog>=2.4.0->chromadb) (2.2.1)\n",
            "Requirement already satisfied: annotated-types>=0.6.0 in /usr/local/lib/python3.11/dist-packages (from pydantic>=1.9->chromadb) (0.7.0)\n",
            "Requirement already satisfied: pydantic-core==2.33.2 in /usr/local/lib/python3.11/dist-packages (from pydantic>=1.9->chromadb) (2.33.2)\n",
            "Requirement already satisfied: typing-inspection>=0.4.0 in /usr/local/lib/python3.11/dist-packages (from pydantic>=1.9->chromadb) (0.4.1)\n",
            "Requirement already satisfied: charset-normalizer<4,>=2 in /usr/local/lib/python3.11/dist-packages (from requests>=2.26.0->tiktoken) (3.4.2)\n",
            "Requirement already satisfied: markdown-it-py>=2.2.0 in /usr/local/lib/python3.11/dist-packages (from rich>=10.11.0->chromadb) (3.0.0)\n",
            "Requirement already satisfied: pygments<3.0.0,>=2.13.0 in /usr/local/lib/python3.11/dist-packages (from rich>=10.11.0->chromadb) (2.19.1)\n",
            "Requirement already satisfied: greenlet>=1 in /usr/local/lib/python3.11/dist-packages (from SQLAlchemy<3,>=1.4->langchain) (3.2.2)\n",
            "Requirement already satisfied: networkx in /usr/local/lib/python3.11/dist-packages (from torch>=1.11.0->sentence_transformers) (3.5)\n",
            "Requirement already satisfied: jinja2 in /usr/local/lib/python3.11/dist-packages (from torch>=1.11.0->sentence_transformers) (3.1.6)\n",
            "Requirement already satisfied: nvidia-cuda-nvrtc-cu12==12.4.127 in /usr/local/lib/python3.11/dist-packages (from torch>=1.11.0->sentence_transformers) (12.4.127)\n",
            "Requirement already satisfied: nvidia-cuda-runtime-cu12==12.4.127 in /usr/local/lib/python3.11/dist-packages (from torch>=1.11.0->sentence_transformers) (12.4.127)\n",
            "Requirement already satisfied: nvidia-cuda-cupti-cu12==12.4.127 in /usr/local/lib/python3.11/dist-packages (from torch>=1.11.0->sentence_transformers) (12.4.127)\n",
            "Requirement already satisfied: nvidia-cudnn-cu12==9.1.0.70 in /usr/local/lib/python3.11/dist-packages (from torch>=1.11.0->sentence_transformers) (9.1.0.70)\n",
            "Requirement already satisfied: nvidia-cublas-cu12==12.4.5.8 in /usr/local/lib/python3.11/dist-packages (from torch>=1.11.0->sentence_transformers) (12.4.5.8)\n",
            "Requirement already satisfied: nvidia-cufft-cu12==11.2.1.3 in /usr/local/lib/python3.11/dist-packages (from torch>=1.11.0->sentence_transformers) (11.2.1.3)\n",
            "Requirement already satisfied: nvidia-curand-cu12==10.3.5.147 in /usr/local/lib/python3.11/dist-packages (from torch>=1.11.0->sentence_transformers) (10.3.5.147)\n",
            "Requirement already satisfied: nvidia-cusolver-cu12==11.6.1.9 in /usr/local/lib/python3.11/dist-packages (from torch>=1.11.0->sentence_transformers) (11.6.1.9)\n",
            "Requirement already satisfied: nvidia-cusparse-cu12==12.3.1.170 in /usr/local/lib/python3.11/dist-packages (from torch>=1.11.0->sentence_transformers) (12.3.1.170)\n",
            "Requirement already satisfied: nvidia-cusparselt-cu12==0.6.2 in /usr/local/lib/python3.11/dist-packages (from torch>=1.11.0->sentence_transformers) (0.6.2)\n",
            "Requirement already satisfied: nvidia-nccl-cu12==2.21.5 in /usr/local/lib/python3.11/dist-packages (from torch>=1.11.0->sentence_transformers) (2.21.5)\n",
            "Requirement already satisfied: nvidia-nvtx-cu12==12.4.127 in /usr/local/lib/python3.11/dist-packages (from torch>=1.11.0->sentence_transformers) (12.4.127)\n",
            "Requirement already satisfied: nvidia-nvjitlink-cu12==12.4.127 in /usr/local/lib/python3.11/dist-packages (from torch>=1.11.0->sentence_transformers) (12.4.127)\n",
            "Requirement already satisfied: triton==3.2.0 in /usr/local/lib/python3.11/dist-packages (from torch>=1.11.0->sentence_transformers) (3.2.0)\n",
            "Requirement already satisfied: mpmath<1.4,>=1.1.0 in /usr/local/lib/python3.11/dist-packages (from sympy->onnxruntime>=1.14.1->chromadb) (1.3.0)\n",
            "Requirement already satisfied: click>=8.0.0 in /usr/local/lib/python3.11/dist-packages (from typer>=0.9.0->chromadb) (8.2.1)\n",
            "Requirement already satisfied: shellingham>=1.3.0 in /usr/local/lib/python3.11/dist-packages (from typer>=0.9.0->chromadb) (1.5.4)\n",
            "Requirement already satisfied: httptools>=0.6.3 in /usr/local/lib/python3.11/dist-packages (from uvicorn[standard]>=0.18.3->chromadb) (0.6.4)\n",
            "Requirement already satisfied: python-dotenv>=0.13 in /usr/local/lib/python3.11/dist-packages (from uvicorn[standard]>=0.18.3->chromadb) (1.1.0)\n",
            "Requirement already satisfied: uvloop!=0.15.0,!=0.15.1,>=0.14.0 in /usr/local/lib/python3.11/dist-packages (from uvicorn[standard]>=0.18.3->chromadb) (0.21.0)\n",
            "Requirement already satisfied: watchfiles>=0.13 in /usr/local/lib/python3.11/dist-packages (from uvicorn[standard]>=0.18.3->chromadb) (1.0.5)\n",
            "Requirement already satisfied: websockets>=10.4 in /usr/local/lib/python3.11/dist-packages (from uvicorn[standard]>=0.18.3->chromadb) (15.0.1)\n",
            "Requirement already satisfied: joblib>=1.2.0 in /usr/local/lib/python3.11/dist-packages (from scikit-learn->sentence_transformers) (1.5.1)\n",
            "Requirement already satisfied: threadpoolctl>=3.1.0 in /usr/local/lib/python3.11/dist-packages (from scikit-learn->sentence_transformers) (3.6.0)\n",
            "Requirement already satisfied: cachetools<6.0,>=2.0.0 in /usr/local/lib/python3.11/dist-packages (from google-auth>=1.0.1->kubernetes>=28.1.0->chromadb) (5.5.2)\n",
            "Requirement already satisfied: pyasn1-modules>=0.2.1 in /usr/local/lib/python3.11/dist-packages (from google-auth>=1.0.1->kubernetes>=28.1.0->chromadb) (0.4.2)\n",
            "Requirement already satisfied: rsa<5,>=3.1.4 in /usr/local/lib/python3.11/dist-packages (from google-auth>=1.0.1->kubernetes>=28.1.0->chromadb) (4.9.1)\n",
            "Requirement already satisfied: zipp>=3.20 in /usr/local/lib/python3.11/dist-packages (from importlib-metadata<8.7.0,>=6.0->opentelemetry-api>=1.2.0->chromadb) (3.22.0)\n",
            "Requirement already satisfied: jsonpointer>=1.9 in /usr/local/lib/python3.11/dist-packages (from jsonpatch<2.0,>=1.33->langchain-core<1.0.0,>=0.3.58->langchain) (3.0.0)\n",
            "Requirement already satisfied: mdurl~=0.1 in /usr/local/lib/python3.11/dist-packages (from markdown-it-py>=2.2.0->rich>=10.11.0->chromadb) (0.1.2)\n",
            "Requirement already satisfied: humanfriendly>=9.1 in /usr/local/lib/python3.11/dist-packages (from coloredlogs->onnxruntime>=1.14.1->chromadb) (10.0)\n",
            "Requirement already satisfied: MarkupSafe>=2.0 in /usr/local/lib/python3.11/dist-packages (from jinja2->torch>=1.11.0->sentence_transformers) (3.0.2)\n",
            "Requirement already satisfied: pyasn1<0.7.0,>=0.6.1 in /usr/local/lib/python3.11/dist-packages (from pyasn1-modules>=0.2.1->google-auth>=1.0.1->kubernetes>=28.1.0->chromadb) (0.6.1)\n"
          ]
        }
      ]
    },
    {
      "cell_type": "markdown",
      "source": [
        "VectorStore는 벡터를 일시적으로 저장합니다. 텍스트와 임베딩 함수를 지정하여 from_documents() 함수에 보내면, 지정된 임베딩 함수를 통해 텍스트를 벡터로 변환하고, 이를 임시 db로 생성합니다.\n",
        "\n",
        "그리고 similarity_search() 함수에 쿼리를 지정해주면 이를 바탕으로 가장 벡터 유사도가 높은 벡터를 찾고 이를 자연어 형태로 출력합니다."
      ],
      "metadata": {
        "id": "P3lhivBSBRK7"
      }
    },
    {
      "cell_type": "code",
      "source": [
        "import tiktoken\n",
        "from langchain.text_splitter import RecursiveCharacterTextSplitter\n",
        "\n",
        "tokenizer = tiktoken.get_encoding(\"cl100k_base\")\n",
        "\n",
        "def tiktoken_len(text):\n",
        "    tokens = tokenizer.encode(text)\n",
        "    return len(tokens)"
      ],
      "metadata": {
        "id": "4uMv2gH_BVj7"
      },
      "execution_count": null,
      "outputs": []
    },
    {
      "cell_type": "code",
      "source": [
        "from langchain.text_splitter import RecursiveCharacterTextSplitter\n",
        "from langchain.vectorstores import Chroma\n",
        "from langchain.document_loaders import PyPDFLoader\n",
        "\n",
        "\n",
        "# load the document and split it into chunks\n",
        "loader = PyPDFLoader(\"/content/drive/MyDrive/[이슈리포트 2022-2호] 혁신성장 정책금융 동향.pdf\")\n",
        "pages = loader.load_and_split()\n",
        "\n",
        "# split it into chunks\n",
        "text_splitter = RecursiveCharacterTextSplitter(chunk_size=500, chunk_overlap=0, length_function = tiktoken_len)\n",
        "docs = text_splitter.split_documents(pages)\n",
        "\n",
        "# create the open-source embedding function\n",
        "from langchain.embeddings import HuggingFaceEmbeddings\n",
        "\n",
        "model_name = \"jhgan/ko-sbert-nli\"\n",
        "model_kwargs = {'device': 'cpu'}\n",
        "encode_kwargs = {'normalize_embeddings': True}\n",
        "hf = HuggingFaceEmbeddings(\n",
        "    model_name=model_name,\n",
        "    model_kwargs=model_kwargs,\n",
        "    encode_kwargs=encode_kwargs\n",
        ")\n"
      ],
      "metadata": {
        "id": "jPViFbUuBbvk"
      },
      "execution_count": null,
      "outputs": []
    },
    {
      "cell_type": "code",
      "source": [
        "# load it into Chroma\n",
        "db = Chroma.from_documents(docs, hf)\n",
        "\n",
        "# query it\n",
        "query = \"6대 먹거리 산업은?\"\n",
        "docs = db.similarity_search(query)\n",
        "\n",
        "# print results\n",
        "print(docs[0].page_content)"
      ],
      "metadata": {
        "colab": {
          "base_uri": "https://localhost:8080/"
        },
        "id": "xVjVlYtjDjHc",
        "outputId": "e93e9729-4cdf-4e5e-aed0-7d860554a0e2"
      },
      "execution_count": null,
      "outputs": [
        {
          "output_type": "stream",
          "name": "stdout",
          "text": [
            "유사한 형태의 정보처리기술을 말하며, 인공지능, 상황인지컴퓨팅 등의 품목으로 구성됨-컴퓨팅 기술을 활용한 다양한 사업화가 활발히 진행되고 있어 혁신성장 정책금융 공급 규모가 매년 약 100% 수준으로 증가하고 있으며, 새정부의 ‘미래 먹거리산업 신성장 전략추진*’에 따라 인공지능 관련 기술로의 금융지원이 늘어날 것으로 전망됨       * 에너지, 방산, 우주항공, 인공지능(AI), 바이오, 탄소중립 대응, 스마트농업을 차세대 6대 먹거리 산업으로 선정\n"
          ]
        }
      ]
    },
    {
      "cell_type": "markdown",
      "source": [
        "인메모리 DB 사용시 데이터가 영구적으로 저장되지 않고 소멸된다. 따라서 persist() 함수를 통해 벡터저장소를 로컬 저장하고, Chroma 객체를 선언할 때 로컬 저장소 경로를 지정하여 필요할 때 다시 불러올 수 있다.\n",
        "###### chroma_db 영구 저장소 사용"
      ],
      "metadata": {
        "id": "lHqkdZKbDooO"
      }
    },
    {
      "cell_type": "code",
      "source": [],
      "metadata": {
        "id": "mMHN8iyPLdni"
      },
      "execution_count": null,
      "outputs": []
    },
    {
      "cell_type": "code",
      "source": [
        "# save to disk\n",
        "db2 = Chroma.from_documents(docs, hf, persist_directory=\"./chroma_db\")\n",
        "docs = db2.similarity_search(query)"
      ],
      "metadata": {
        "id": "pXdnwXtXD1QM"
      },
      "execution_count": null,
      "outputs": []
    },
    {
      "cell_type": "code",
      "source": [
        "# load from disk\n",
        "db3 = Chroma(persist_directory=\"./chroma_db\", embedding_function=hf)\n",
        "docs = db3.similarity_search(query)\n",
        "print(docs[0].page_content)"
      ],
      "metadata": {
        "colab": {
          "base_uri": "https://localhost:8080/"
        },
        "id": "uZ1-slJlESWx",
        "outputId": "6ea54335-e525-4bba-da4f-b01c94b965c8"
      },
      "execution_count": null,
      "outputs": [
        {
          "output_type": "stream",
          "name": "stdout",
          "text": [
            "유사한 형태의 정보처리기술을 말하며, 인공지능, 상황인지컴퓨팅 등의 품목으로 구성됨-컴퓨팅 기술을 활용한 다양한 사업화가 활발히 진행되고 있어 혁신성장 정책금융 공급 규모가 매년 약 100% 수준으로 증가하고 있으며, 새정부의 ‘미래 먹거리산업 신성장 전략추진*’에 따라 인공지능 관련 기술로의 금융지원이 늘어날 것으로 전망됨       * 에너지, 방산, 우주항공, 인공지능(AI), 바이오, 탄소중립 대응, 스마트농업을 차세대 6대 먹거리 산업으로 선정\n"
          ]
        }
      ]
    },
    {
      "cell_type": "markdown",
      "source": [
        "쿼리와 유사한 문서(청크)를 불러올 때, 유사도를 함께 제공하는 함수 similarity_search_with_score()를 제공합니다. 이를 통해서 내가 얻은 유사한 문장들의 유사도를 비교할 수 있으며, 특정 유사도 이상의 문서만 출력하도록 하는 등 다양한 활용이 가능합니다."
      ],
      "metadata": {
        "id": "xcS7rl3NEXqQ"
      }
    },
    {
      "cell_type": "code",
      "source": [
        "docs = db3.similarity_search_with_relevance_scores(query, k=3)\n",
        "\n",
        "print(\"가장 유사한 문서:\\n\\n {}\\n\\n\".format(docs[0][0].page_content))\n",
        "print(\"문서 유사도:\\n {}\".format(docs[0][1]))"
      ],
      "metadata": {
        "colab": {
          "base_uri": "https://localhost:8080/"
        },
        "id": "1lGHfp4bEZI6",
        "outputId": "45586f5f-0632-4369-dc94-8216689dca6a"
      },
      "execution_count": null,
      "outputs": [
        {
          "output_type": "stream",
          "name": "stdout",
          "text": [
            "가장 유사한 문서:\n",
            "\n",
            " 유사한 형태의 정보처리기술을 말하며, 인공지능, 상황인지컴퓨팅 등의 품목으로 구성됨-컴퓨팅 기술을 활용한 다양한 사업화가 활발히 진행되고 있어 혁신성장 정책금융 공급 규모가 매년 약 100% 수준으로 증가하고 있으며, 새정부의 ‘미래 먹거리산업 신성장 전략추진*’에 따라 인공지능 관련 기술로의 금융지원이 늘어날 것으로 전망됨       * 에너지, 방산, 우주항공, 인공지능(AI), 바이오, 탄소중립 대응, 스마트농업을 차세대 6대 먹거리 산업으로 선정\n",
            "\n",
            "\n",
            "문서 유사도:\n",
            " 0.26836897918932756\n"
          ]
        }
      ]
    },
    {
      "cell_type": "markdown",
      "source": [
        "#### FAISS"
      ],
      "metadata": {
        "id": "C4RZXQWwG1Hp"
      }
    },
    {
      "cell_type": "markdown",
      "source": [
        "Facebook AI 유사성 검색(Faiss)은 고밀도 벡터의 효율적인 유사성 검색 및 클러스터링을 위한 라이브러리입니다. 여기에는 모든 크기의 벡터 집합에서 검색하는 알고리즘이 포함되어 있으며, RAM에 맞지 않을 수 있는 벡터까지 검색할 수 있습니다. 또한 평가 및 매개변수 조정을 위한 지원 코드도 포함되어 있습니다."
      ],
      "metadata": {
        "id": "A9JS7IKdG3oB"
      }
    },
    {
      "cell_type": "code",
      "source": [
        "pip install faiss-cpu # For CPU Installation"
      ],
      "metadata": {
        "colab": {
          "base_uri": "https://localhost:8080/"
        },
        "id": "kW4kCMn1HEVc",
        "outputId": "c4793263-c990-4aca-abab-2aa8593ade25"
      },
      "execution_count": null,
      "outputs": [
        {
          "output_type": "stream",
          "name": "stdout",
          "text": [
            "Requirement already satisfied: faiss-cpu in /usr/local/lib/python3.11/dist-packages (1.11.0)\n",
            "Requirement already satisfied: numpy<3.0,>=1.25.0 in /usr/local/lib/python3.11/dist-packages (from faiss-cpu) (2.0.2)\n",
            "Requirement already satisfied: packaging in /usr/local/lib/python3.11/dist-packages (from faiss-cpu) (24.2)\n"
          ]
        }
      ]
    },
    {
      "cell_type": "code",
      "source": [
        "from langchain.vectorstores import FAISS"
      ],
      "metadata": {
        "id": "ayQecI9aHGtR"
      },
      "execution_count": null,
      "outputs": []
    },
    {
      "cell_type": "code",
      "source": [
        "loader = PyPDFLoader(\"/content/drive/MyDrive/[이슈리포트 2022-2호] 혁신성장 정책금융 동향.pdf\")\n",
        "pages = loader.load_and_split()\n",
        "\n",
        "# split it into chunks\n",
        "text_splitter = RecursiveCharacterTextSplitter(chunk_size=500, chunk_overlap=0, length_function = tiktoken_len)\n",
        "docs = text_splitter.split_documents(pages)\n",
        "\n",
        "from langchain.embeddings import HuggingFaceEmbeddings\n",
        "\n",
        "model_name = \"jhgan/ko-sbert-nli\"\n",
        "model_kwargs = {'device': 'cpu'}\n",
        "encode_kwargs = {'normalize_embeddings': True}\n",
        "ko = HuggingFaceEmbeddings(\n",
        "    model_name=model_name,\n",
        "    model_kwargs=model_kwargs,\n",
        "    encode_kwargs=encode_kwargs\n",
        ")"
      ],
      "metadata": {
        "id": "2jM0qfeWH2Yn"
      },
      "execution_count": null,
      "outputs": []
    },
    {
      "cell_type": "code",
      "source": [
        "db = FAISS.from_documents(docs, ko) # 분리한 pdf 내용을 인베딩 해서 db에 저장"
      ],
      "metadata": {
        "id": "BmCC6nqRI-lG"
      },
      "execution_count": null,
      "outputs": []
    },
    {
      "cell_type": "code",
      "source": [
        "query = \"인공지능 산업구조는 어떻게 구성되어있어?\"\n",
        "docs = db.similarity_search(query)\n",
        "print(docs[0].page_content)"
      ],
      "metadata": {
        "colab": {
          "base_uri": "https://localhost:8080/"
        },
        "id": "ouFx4nRwJbkT",
        "outputId": "d0062c10-76ff-4c75-8dfd-39c0a78f8b93"
      },
      "execution_count": null,
      "outputs": [
        {
          "output_type": "stream",
          "name": "stdout",
          "text": [
            "▶다양한 데이터나 복잡한 자료 속에서 핵심적인 특징을 요약하는 ①데이터 추상화 기술, 방대한 지식체계를 이용하는 ②빅데이터 기술, 빅데이터를 처리하기 위한 ③고성능 컴퓨팅 기술이 인공지능 구현의 핵심임￮데이터를 추상화하는 방법은 크게 인공신경망(ANN), 심층신경망(DNN), 합성곱신경망(CNN) 및 순환신경망(RNN) 등으로 구분됨[인공지능 데이터 추상화 기술]구분특징장점단점인공신경망(ANN)Artificial Neural Network사람의 신경망 원리와 구조를 모방하여 만든 기계학습 알고리즘으로, 입력층, 출력층, 은닉층으로 구성 모든 비선형 함수 학습이 가능알고리즘을 최적화하기 어려운 학습 환경 발생심층신경망(DNN)Deep Neural Network입력층과 출력층 사이에 2개 이상의 은닉층들로 이뤄진 인공신경망ANN의 문제점 개선학습환경에 따라 높은 시간 복잡도 문제 발생합성곱신경망(CNN)Convolution Neural Network데이터의 특징을 추출하여 특징들의 패턴을 파악하는 인공신경망이미지, 영상 데이터 판별에 강점특징추출 과정에서 정보손실 발생순환신경망(RNN)Recurrent Neural\n"
          ]
        }
      ]
    },
    {
      "cell_type": "code",
      "source": [
        "docs_and_scores = db.similarity_search_with_score(query)\n",
        "docs_and_scores"
      ],
      "metadata": {
        "colab": {
          "base_uri": "https://localhost:8080/"
        },
        "id": "nPgIJOEhJen3",
        "outputId": "b629e92a-4572-4e33-8650-2045451e880d"
      },
      "execution_count": null,
      "outputs": [
        {
          "output_type": "execute_result",
          "data": {
            "text/plain": [
              "[(Document(id='2724bae6-b135-4c9e-81c3-57a66c1590a0', metadata={'producer': 'Hancom PDF 1.3.0.538', 'creator': 'Hancom PDF 1.3.0.538', 'creationdate': '2022-07-29T09:03:16+09:00', 'author': 'kmd kdy', 'moddate': '2022-07-29T09:03:16+09:00', 'pdfversion': '1.4', 'source': '/content/drive/MyDrive/[이슈리포트 2022-2호] 혁신성장 정책금융 동향.pdf', 'total_pages': 18, 'page': 8, 'page_label': '9'}, page_content='▶다양한 데이터나 복잡한 자료 속에서 핵심적인 특징을 요약하는 ①데이터 추상화 기술, 방대한 지식체계를 이용하는 ②빅데이터 기술, 빅데이터를 처리하기 위한 ③고성능 컴퓨팅 기술이 인공지능 구현의 핵심임￮데이터를 추상화하는 방법은 크게 인공신경망(ANN), 심층신경망(DNN), 합성곱신경망(CNN) 및 순환신경망(RNN) 등으로 구분됨[인공지능 데이터 추상화 기술]구분특징장점단점인공신경망(ANN)Artificial Neural Network사람의 신경망 원리와 구조를 모방하여 만든 기계학습 알고리즘으로, 입력층, 출력층, 은닉층으로 구성 모든 비선형 함수 학습이 가능알고리즘을 최적화하기 어려운 학습 환경 발생심층신경망(DNN)Deep Neural Network입력층과 출력층 사이에 2개 이상의 은닉층들로 이뤄진 인공신경망ANN의 문제점 개선학습환경에 따라 높은 시간 복잡도 문제 발생합성곱신경망(CNN)Convolution Neural Network데이터의 특징을 추출하여 특징들의 패턴을 파악하는 인공신경망이미지, 영상 데이터 판별에 강점특징추출 과정에서 정보손실 발생순환신경망(RNN)Recurrent Neural'),\n",
              "  np.float32(0.7394466)),\n",
              " (Document(id='27d74400-3e6d-4aac-8691-299faecefa4a', metadata={'producer': 'Hancom PDF 1.3.0.538', 'creator': 'Hancom PDF 1.3.0.538', 'creationdate': '2022-07-29T09:03:16+09:00', 'author': 'kmd kdy', 'moddate': '2022-07-29T09:03:16+09:00', 'pdfversion': '1.4', 'source': '/content/drive/MyDrive/[이슈리포트 2022-2호] 혁신성장 정책금융 동향.pdf', 'total_pages': 18, 'page': 7, 'page_label': '8'}, page_content='주: 스마트물류시스템 품목은 2021년부터 신규 품목으로 편임▶인공지능은 인간의 학습능력과 추론·지각능력, 자연언어 이해능력 등을 프로그램으로 구현한 기술로, 컴퓨터가 인간의 지능적인 행동을 모방하는 방향으로 발전하고 있음￮인공지능은 사람의 두뇌가 복잡한 연산을 수행하는 점을 모방해 뉴런(Neuron)을 수학적으로 모방한 알고리즘인 퍼셉트론(Perceptron)을 이용하여 컴퓨터의 연산 로직을 처리하는 원리로 동작함[인공지능 동작 개념]구분 구조뉴런Ÿ세포체의 자극이 임계치를 넘으면 신경전달물질 발화\\n인공지능(퍼셉트론)Ÿ활성함수의 계산 결과를 출력\\n자료: 디지에코'),\n",
              "  np.float32(0.74930096)),\n",
              " (Document(id='e9f1ee60-3ae9-4a96-8e95-f39e420d95b8', metadata={'producer': 'Hancom PDF 1.3.0.538', 'creator': 'Hancom PDF 1.3.0.538', 'creationdate': '2022-07-29T09:03:16+09:00', 'author': 'kmd kdy', 'moddate': '2022-07-29T09:03:16+09:00', 'pdfversion': '1.4', 'source': '/content/drive/MyDrive/[이슈리포트 2022-2호] 혁신성장 정책금융 동향.pdf', 'total_pages': 18, 'page': 9, 'page_label': '10'}, page_content='▶인공지능 산업의 value chain은 ‘AI 플랫폼 공급업체 → AI 어플리케이션 개발 → AI 응용솔루션 개발 → 이용자’로 구성되며, 동 산업은 ①성장기 산업, ②대체재로부터의 위협이 낮은 산업, ③기술집약적 산업 등의 특징을 가짐￮알고리즘, 하드웨어 기술개발과 응용솔루션 서비스 상용화가 활발히 진행 중인 성장기 산업이며, 수요 기업의 요구사항에 따라 운영플랫폼을 선택할 수 있는 구매자의 교섭력이 높은 산업임￮직접적인 대체 기술이 없어 대체재로부터 위협이 낮은 편이며, 알고리즘의 동작원리를 이해하고 맞춤형 서비스를 지원하기 위한 솔루션 개발 능력이 뒷받침 되어야 하는 기술집약적 산업임▶시장조사전문기관 BCC research에 따르면 세계 인공지능 시장규모는 2020년 398.4억 달러에서 연평균 41.0% 성장하여 2025년에는 2,223.7억 달러의 시장을 형성할 것으로 전망됨￮세부 솔루션 분문별로는 2020년 기준'),\n",
              "  np.float32(0.7758988)),\n",
              " (Document(id='b47da188-bc11-4b58-9777-0bcb9f0efdd1', metadata={'producer': 'Hancom PDF 1.3.0.538', 'creator': 'Hancom PDF 1.3.0.538', 'creationdate': '2022-07-29T09:03:16+09:00', 'author': 'kmd kdy', 'moddate': '2022-07-29T09:03:16+09:00', 'pdfversion': '1.4', 'source': '/content/drive/MyDrive/[이슈리포트 2022-2호] 혁신성장 정책금융 동향.pdf', 'total_pages': 18, 'page': 7, 'page_label': '8'}, page_content='| 8 | CIS이슈리포트 2022-2호 \\n▶(주요품목② : 인공지능) 정보통신 테마 내 기술분야 중 정책금융 공급규모 증가율이 가장 높은 능동형컴퓨팅 분야의 경우, 인공지능 품목의 정책금융 공급 비중이 가장 높으며, 이는 빅데이터 분석기술의 발전으로 인해 인공지능의 활용처가 넓어짐에 따른 것으로 분석됨[능동형컴퓨팅 분야 내 기술품목별 혁신성장 정책금융 공급액 추이](단위: 억 원)'),\n",
              "  np.float32(0.8290844))]"
            ]
          },
          "metadata": {},
          "execution_count": 107
        }
      ]
    },
    {
      "cell_type": "code",
      "source": [
        "db.save_local(\"faiss_index\")"
      ],
      "metadata": {
        "id": "8OZErjmAKwAb"
      },
      "execution_count": null,
      "outputs": []
    },
    {
      "cell_type": "markdown",
      "source": [
        "![image.png](data:image/png;base64,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)\n",
        "##### 실제 content에 영구적으로 저장된 모습"
      ],
      "metadata": {
        "id": "mlJB4T2wK1Yg"
      }
    },
    {
      "cell_type": "markdown",
      "source": [
        "#####📦 불러오는 방법:\n",
        "저장된 FAISS 인덱스는 이렇게 다시 불러올 수 오는법"
      ],
      "metadata": {
        "id": "NKYowG4ELPil"
      }
    },
    {
      "cell_type": "code",
      "source": [
        "from langchain.vectorstores import FAISS\n",
        "\n",
        "# db = FAISS.load_local(\"faiss_index\", embedding=\"ko\")"
      ],
      "metadata": {
        "id": "a6uEBXMZLYdR",
        "colab": {
          "base_uri": "https://localhost:8080/",
          "height": 176
        },
        "outputId": "1a5b2324-c12b-4a6b-e8e0-b9d2dfe3eb50"
      },
      "execution_count": null,
      "outputs": [
        {
          "output_type": "error",
          "ename": "TypeError",
          "evalue": "FAISS.load_local() missing 1 required positional argument: 'embeddings'",
          "traceback": [
            "\u001b[0;31m---------------------------------------------------------------------------\u001b[0m",
            "\u001b[0;31mTypeError\u001b[0m                                 Traceback (most recent call last)",
            "\u001b[0;32m<ipython-input-111-4955b7292002>\u001b[0m in \u001b[0;36m<cell line: 0>\u001b[0;34m()\u001b[0m\n\u001b[1;32m      1\u001b[0m \u001b[0;32mfrom\u001b[0m \u001b[0mlangchain\u001b[0m\u001b[0;34m.\u001b[0m\u001b[0mvectorstores\u001b[0m \u001b[0;32mimport\u001b[0m \u001b[0mFAISS\u001b[0m\u001b[0;34m\u001b[0m\u001b[0;34m\u001b[0m\u001b[0m\n\u001b[1;32m      2\u001b[0m \u001b[0;34m\u001b[0m\u001b[0m\n\u001b[0;32m----> 3\u001b[0;31m \u001b[0mdb\u001b[0m \u001b[0;34m=\u001b[0m \u001b[0mFAISS\u001b[0m\u001b[0;34m.\u001b[0m\u001b[0mload_local\u001b[0m\u001b[0;34m(\u001b[0m\u001b[0;34m\"faiss_index\"\u001b[0m\u001b[0;34m,\u001b[0m \u001b[0membedding\u001b[0m\u001b[0;34m=\u001b[0m\u001b[0;34m\"ko\"\u001b[0m\u001b[0;34m)\u001b[0m\u001b[0;34m\u001b[0m\u001b[0;34m\u001b[0m\u001b[0m\n\u001b[0m",
            "\u001b[0;31mTypeError\u001b[0m: FAISS.load_local() missing 1 required positional argument: 'embeddings'"
          ]
        }
      ]
    },
    {
      "cell_type": "code",
      "source": [
        "# new_db = FAISS.load_local(\"faiss_index\", ko)\n",
        "## LangChain 0.1.14 이후부터는 보안 상 이유로 .pkl (Pickle) 로딩을 기본적으로 막아놈\n",
        "\n",
        "\n",
        "query = \"인공지능 산업구조는 어떻게 구성되어있어?\"\n",
        "docs = new_db.similarity_search_with_relevance_scores(query, k=3)\n",
        "\n",
        "\n",
        "print(\"질문: {} \\n\".format(query))\n",
        "for i in range(len(docs)):\n",
        "    print(\"{0}번째 유사 문서 유사도 \\n{1}\".format(i+1,round(docs[i][1],2)))\n",
        "    print(\"-\"*100)\n",
        "    print(docs[i][0].page_content)\n",
        "    print(\"\\n\")\n",
        "    print(docs[i][0].metadata)\n",
        "    print(\"-\"*100)"
      ],
      "metadata": {
        "colab": {
          "base_uri": "https://localhost:8080/"
        },
        "id": "akagFUu1LeaE",
        "outputId": "7e32e80f-40ad-4761-8867-99dc82985198"
      },
      "execution_count": null,
      "outputs": [
        {
          "output_type": "stream",
          "name": "stdout",
          "text": [
            "질문: 인공지능 산업구조는 어떻게 구성되어있어? \n",
            "\n",
            "1번째 유사 문서 유사도 \n",
            "0.47999998927116394\n",
            "----------------------------------------------------------------------------------------------------\n",
            "▶다양한 데이터나 복잡한 자료 속에서 핵심적인 특징을 요약하는 ①데이터 추상화 기술, 방대한 지식체계를 이용하는 ②빅데이터 기술, 빅데이터를 처리하기 위한 ③고성능 컴퓨팅 기술이 인공지능 구현의 핵심임￮데이터를 추상화하는 방법은 크게 인공신경망(ANN), 심층신경망(DNN), 합성곱신경망(CNN) 및 순환신경망(RNN) 등으로 구분됨[인공지능 데이터 추상화 기술]구분특징장점단점인공신경망(ANN)Artificial Neural Network사람의 신경망 원리와 구조를 모방하여 만든 기계학습 알고리즘으로, 입력층, 출력층, 은닉층으로 구성 모든 비선형 함수 학습이 가능알고리즘을 최적화하기 어려운 학습 환경 발생심층신경망(DNN)Deep Neural Network입력층과 출력층 사이에 2개 이상의 은닉층들로 이뤄진 인공신경망ANN의 문제점 개선학습환경에 따라 높은 시간 복잡도 문제 발생합성곱신경망(CNN)Convolution Neural Network데이터의 특징을 추출하여 특징들의 패턴을 파악하는 인공신경망이미지, 영상 데이터 판별에 강점특징추출 과정에서 정보손실 발생순환신경망(RNN)Recurrent Neural\n",
            "\n",
            "\n",
            "{'producer': 'Hancom PDF 1.3.0.538', 'creator': 'Hancom PDF 1.3.0.538', 'creationdate': '2022-07-29T09:03:16+09:00', 'author': 'kmd kdy', 'moddate': '2022-07-29T09:03:16+09:00', 'pdfversion': '1.4', 'source': '/content/drive/MyDrive/[이슈리포트 2022-2호] 혁신성장 정책금융 동향.pdf', 'total_pages': 18, 'page': 8, 'page_label': '9'}\n",
            "----------------------------------------------------------------------------------------------------\n",
            "2번째 유사 문서 유사도 \n",
            "0.4699999988079071\n",
            "----------------------------------------------------------------------------------------------------\n",
            "주: 스마트물류시스템 품목은 2021년부터 신규 품목으로 편임▶인공지능은 인간의 학습능력과 추론·지각능력, 자연언어 이해능력 등을 프로그램으로 구현한 기술로, 컴퓨터가 인간의 지능적인 행동을 모방하는 방향으로 발전하고 있음￮인공지능은 사람의 두뇌가 복잡한 연산을 수행하는 점을 모방해 뉴런(Neuron)을 수학적으로 모방한 알고리즘인 퍼셉트론(Perceptron)을 이용하여 컴퓨터의 연산 로직을 처리하는 원리로 동작함[인공지능 동작 개념]구분 구조뉴런Ÿ세포체의 자극이 임계치를 넘으면 신경전달물질 발화\n",
            "인공지능(퍼셉트론)Ÿ활성함수의 계산 결과를 출력\n",
            "자료: 디지에코\n",
            "\n",
            "\n",
            "{'producer': 'Hancom PDF 1.3.0.538', 'creator': 'Hancom PDF 1.3.0.538', 'creationdate': '2022-07-29T09:03:16+09:00', 'author': 'kmd kdy', 'moddate': '2022-07-29T09:03:16+09:00', 'pdfversion': '1.4', 'source': '/content/drive/MyDrive/[이슈리포트 2022-2호] 혁신성장 정책금융 동향.pdf', 'total_pages': 18, 'page': 7, 'page_label': '8'}\n",
            "----------------------------------------------------------------------------------------------------\n",
            "3번째 유사 문서 유사도 \n",
            "0.44999998807907104\n",
            "----------------------------------------------------------------------------------------------------\n",
            "▶인공지능 산업의 value chain은 ‘AI 플랫폼 공급업체 → AI 어플리케이션 개발 → AI 응용솔루션 개발 → 이용자’로 구성되며, 동 산업은 ①성장기 산업, ②대체재로부터의 위협이 낮은 산업, ③기술집약적 산업 등의 특징을 가짐￮알고리즘, 하드웨어 기술개발과 응용솔루션 서비스 상용화가 활발히 진행 중인 성장기 산업이며, 수요 기업의 요구사항에 따라 운영플랫폼을 선택할 수 있는 구매자의 교섭력이 높은 산업임￮직접적인 대체 기술이 없어 대체재로부터 위협이 낮은 편이며, 알고리즘의 동작원리를 이해하고 맞춤형 서비스를 지원하기 위한 솔루션 개발 능력이 뒷받침 되어야 하는 기술집약적 산업임▶시장조사전문기관 BCC research에 따르면 세계 인공지능 시장규모는 2020년 398.4억 달러에서 연평균 41.0% 성장하여 2025년에는 2,223.7억 달러의 시장을 형성할 것으로 전망됨￮세부 솔루션 분문별로는 2020년 기준\n",
            "\n",
            "\n",
            "{'producer': 'Hancom PDF 1.3.0.538', 'creator': 'Hancom PDF 1.3.0.538', 'creationdate': '2022-07-29T09:03:16+09:00', 'author': 'kmd kdy', 'moddate': '2022-07-29T09:03:16+09:00', 'pdfversion': '1.4', 'source': '/content/drive/MyDrive/[이슈리포트 2022-2호] 혁신성장 정책금융 동향.pdf', 'total_pages': 18, 'page': 9, 'page_label': '10'}\n",
            "----------------------------------------------------------------------------------------------------\n"
          ]
        }
      ]
    },
    {
      "cell_type": "code",
      "source": [
        "query = \"인공지능 산업구조는 어떻게 구성되어있어?\"\n",
        "docs = new_db.max_marginal_relevance_search(query,k=3,fetch_k = 10, lambda_mult = 0.3)\n",
        "\n",
        "print(\"질문: {} \\n\".format(query))\n",
        "for i in range(len(docs)):\n",
        "    print(\"{}번째 유사 문서:\".format(i+1))\n",
        "    print(\"-\"*100)\n",
        "    print(docs[i].page_content)\n",
        "    print(\"\\n\")\n",
        "    print(docs[i].metadata)\n",
        "    print(\"-\"*100)\n",
        "    print(\"\\n\\n\")\n"
      ],
      "metadata": {
        "colab": {
          "base_uri": "https://localhost:8080/"
        },
        "id": "REWabHW5MHFN",
        "outputId": "06c07017-ec9d-43de-8c17-9f13a369f3c5"
      },
      "execution_count": null,
      "outputs": [
        {
          "output_type": "stream",
          "name": "stdout",
          "text": [
            "질문: 인공지능 산업구조는 어떻게 구성되어있어? \n",
            "\n",
            "1번째 유사 문서:\n",
            "----------------------------------------------------------------------------------------------------\n",
            "▶다양한 데이터나 복잡한 자료 속에서 핵심적인 특징을 요약하는 ①데이터 추상화 기술, 방대한 지식체계를 이용하는 ②빅데이터 기술, 빅데이터를 처리하기 위한 ③고성능 컴퓨팅 기술이 인공지능 구현의 핵심임￮데이터를 추상화하는 방법은 크게 인공신경망(ANN), 심층신경망(DNN), 합성곱신경망(CNN) 및 순환신경망(RNN) 등으로 구분됨[인공지능 데이터 추상화 기술]구분특징장점단점인공신경망(ANN)Artificial Neural Network사람의 신경망 원리와 구조를 모방하여 만든 기계학습 알고리즘으로, 입력층, 출력층, 은닉층으로 구성 모든 비선형 함수 학습이 가능알고리즘을 최적화하기 어려운 학습 환경 발생심층신경망(DNN)Deep Neural Network입력층과 출력층 사이에 2개 이상의 은닉층들로 이뤄진 인공신경망ANN의 문제점 개선학습환경에 따라 높은 시간 복잡도 문제 발생합성곱신경망(CNN)Convolution Neural Network데이터의 특징을 추출하여 특징들의 패턴을 파악하는 인공신경망이미지, 영상 데이터 판별에 강점특징추출 과정에서 정보손실 발생순환신경망(RNN)Recurrent Neural\n",
            "\n",
            "\n",
            "{'producer': 'Hancom PDF 1.3.0.538', 'creator': 'Hancom PDF 1.3.0.538', 'creationdate': '2022-07-29T09:03:16+09:00', 'author': 'kmd kdy', 'moddate': '2022-07-29T09:03:16+09:00', 'pdfversion': '1.4', 'source': '/content/drive/MyDrive/[이슈리포트 2022-2호] 혁신성장 정책금융 동향.pdf', 'total_pages': 18, 'page': 8, 'page_label': '9'}\n",
            "----------------------------------------------------------------------------------------------------\n",
            "\n",
            "\n",
            "\n",
            "2번째 유사 문서:\n",
            "----------------------------------------------------------------------------------------------------\n",
            "시스템반도체 및 스마트센서에 정책금융 공급량이 높은 것으로 확인됨￮정부가 미래 먹거리산업으로 선정한 인공지능(AI)의 미래성장율(CAGR: 41.0%)이 가장 높으며, 시장규모는 시스템반도체(3,833.8억 달러, 2025년)가 가장 큰 것으로 분석됨￮4대 품목은 공통적으로 수요기반이 크고, 각국 정부가 중점적으로 육성을 지원하고 있어 시장이 지속 성장할 것으로 전망되나, 원천기술 미확보 및 높은 해외 의존도가 약점으로 지적되어 국내 기업의 경쟁력 강화가 시급한 것으로 평가됨[혁신성장 ICT 주요 품목 시장전망]                                                            (단위: 억 달러, %)주요 기술분야(중분류)주요 품목(소분류) 시장규모 전망시장 촉진·저해요인2020년2025년(E)CAGR(%)차세대무선통신미디어5G이동통신시스템494.41,982.032.0Ÿ(촉진) 정부의 국제표준 확보 의지Ÿ(저해) 소재에 대한\n",
            "\n",
            "\n",
            "{'producer': 'Hancom PDF 1.3.0.538', 'creator': 'Hancom PDF 1.3.0.538', 'creationdate': '2022-07-29T09:03:16+09:00', 'author': 'kmd kdy', 'moddate': '2022-07-29T09:03:16+09:00', 'pdfversion': '1.4', 'source': '/content/drive/MyDrive/[이슈리포트 2022-2호] 혁신성장 정책금융 동향.pdf', 'total_pages': 18, 'page': 1, 'page_label': '2'}\n",
            "----------------------------------------------------------------------------------------------------\n",
            "\n",
            "\n",
            "\n",
            "3번째 유사 문서:\n",
            "----------------------------------------------------------------------------------------------------\n",
            "따라 마이크로컴포넌트, 로직 IC(집적회로), 아날로그 IC, 주문형 반도체(ASIC) 등으로 구분됨-고성능 반도체, 센서의 지능화, AI프로세서, 데이터 센터 등 새로운 컴퓨팅 아키텍처가 등장함에 따라 이를 구현하기 위한 시스템반도체 설계 및 공정기술에 대한 R&D가 활발히 진행되고 있음[시스템반도체 기능별 분류]구분 내용\n",
            "\n",
            "\n",
            "{'producer': 'Hancom PDF 1.3.0.538', 'creator': 'Hancom PDF 1.3.0.538', 'creationdate': '2022-07-29T09:03:16+09:00', 'author': 'kmd kdy', 'moddate': '2022-07-29T09:03:16+09:00', 'pdfversion': '1.4', 'source': '/content/drive/MyDrive/[이슈리포트 2022-2호] 혁신성장 정책금융 동향.pdf', 'total_pages': 18, 'page': 12, 'page_label': '13'}\n",
            "----------------------------------------------------------------------------------------------------\n",
            "\n",
            "\n",
            "\n"
          ]
        }
      ]
    },
    {
      "cell_type": "markdown",
      "source": [
        "### Retriever"
      ],
      "metadata": {
        "id": "o9L89GLUPaOZ"
      }
    },
    {
      "cell_type": "markdown",
      "source": [
        "사용자 질문 → Retriever → 관련 문서 추출 → LLM에게 전달 → 답변 생성"
      ],
      "metadata": {
        "id": "uDfE4dyUPnvN"
      }
    },
    {
      "cell_type": "markdown",
      "source": [
        "리트리버는 비정형 쿼리가 주어지면 문서를 반환하는 인터페이스입니다. 벡터 저장소보다 더 일반적입니다. 리트리버는 문서를 저장할 필요 없이 단지 반환(또는 검색)만 할 수 있습니다. - Langchain Document"
      ],
      "metadata": {
        "id": "plO4IuZIPsyR"
      }
    },
    {
      "cell_type": "code",
      "source": [
        "from langchain.chains import RetrievalQA\n",
        "from langchain.chat_models import ChatOpenAI\n",
        "from langchain.text_splitter import RecursiveCharacterTextSplitter\n",
        "from langchain.vectorstores import Chroma\n",
        "from langchain.document_loaders import PyPDFLoader"
      ],
      "metadata": {
        "id": "7bGTTvnWQCEv"
      },
      "execution_count": null,
      "outputs": []
    },
    {
      "cell_type": "code",
      "source": [
        "loader = PyPDFLoader(\"/content/drive/MyDrive/[이슈리포트 2022-2호] 혁신성장 정책금융 동향.pdf\")\n",
        "pages = loader.load_and_split()\n",
        "\n",
        "text_splitter = RecursiveCharacterTextSplitter(chunk_size=500, chunk_overlap=50, length_function = tiktoken_len)\n",
        "texts = text_splitter.split_documents(pages)\n",
        "\n",
        "from langchain.embeddings import HuggingFaceEmbeddings\n",
        "\n",
        "model_name = \"jhgan/ko-sbert-nli\"\n",
        "model_kwargs = {'device': 'cpu'}\n",
        "encode_kwargs = {'normalize_embeddings': True}\n",
        "hf = HuggingFaceEmbeddings(\n",
        "    model_name=model_name,\n",
        "    model_kwargs=model_kwargs,\n",
        "    encode_kwargs=encode_kwargs\n",
        ")\n",
        "\n",
        "docsearch = Chroma.from_documents(texts, hf)"
      ],
      "metadata": {
        "id": "0RcebzrKQGbj"
      },
      "execution_count": null,
      "outputs": []
    },
    {
      "cell_type": "code",
      "source": [
        "from langchain.callbacks.streaming_stdout import StreamingStdOutCallbackHandler\n",
        "\n",
        "openai = ChatOpenAI(model_name=\"gpt-3.5-turbo\",\n",
        "                    streaming=True, callbacks=[StreamingStdOutCallbackHandler()],\n",
        "                    temperature = 0)\n",
        "\n",
        "qa = RetrievalQA.from_chain_type(llm = openai,\n",
        "                                 chain_type = \"stuff\",\n",
        "                                 retriever = docsearch.as_retriever(\n",
        "                                    search_type=\"mmr\",\n",
        "                                    search_kwargs={'k':3, 'fetch_k': 10}),\n",
        "                                 return_source_documents = True)\n",
        "\n",
        "query = \"혁신성장 정책금융에 대해서 설명해줘\"\n",
        "result = qa(query)"
      ],
      "metadata": {
        "colab": {
          "base_uri": "https://localhost:8080/"
        },
        "id": "AmWdT7LKQMn7",
        "outputId": "c3607ae3-914e-499a-81ad-85ce44c2d51b"
      },
      "execution_count": null,
      "outputs": [
        {
          "output_type": "stream",
          "name": "stdout",
          "text": [
            "혁신성장 정책금융은 기업 성장을 지원하고 건강한 혁신산업 생태계를 조성하기 위해 정부나 정책금융기관이 제공하는 금융 지원 제도입니다. 이를 통해 혁신성장에 필요한 자금을 기업에 지원하고, 혁신성장에 대한 정책금융 가이드라인에 따라 혁신성장 산업을 육성하며 글로벌 경쟁력을 확보하려는 노력을 기울이고 있습니다. 이러한 정책금융은 혁신성장 분야의 기업 발굴과 금융지원을 위한 기준을 가지고 있으며, 지속적으로 공급 규모와 건수를 증가시키며 혁신성장 분야를 확대해가고 있습니다."
          ]
        }
      ]
    },
    {
      "cell_type": "code",
      "source": [
        "result"
      ],
      "metadata": {
        "colab": {
          "base_uri": "https://localhost:8080/"
        },
        "id": "OOgp49SoQfkB",
        "outputId": "557995c0-53ea-48a5-b446-a2d2b5edaa96"
      },
      "execution_count": null,
      "outputs": [
        {
          "output_type": "execute_result",
          "data": {
            "text/plain": [
              "{'query': '혁신성장 정책금융에 대해서 설명해줘',\n",
              " 'result': '혁신성장 정책금융은 기업 성장을 지원하고 건강한 혁신산업 생태계를 조성하기 위해 정부나 정책금융기관이 제공하는 금융 지원 제도입니다. 이를 통해 혁신성장에 필요한 자금을 기업에 지원하고, 혁신성장에 대한 정책금융 가이드라인에 따라 혁신성장 산업을 육성하며 글로벌 경쟁력을 확보하려는 노력을 기울이고 있습니다. 이러한 정책금융은 혁신성장 분야의 기업 발굴과 금융지원을 위한 기준을 가지고 있으며, 지속적으로 공급 규모와 건수를 증가시키며 혁신성장 분야를 확대해가고 있습니다.',\n",
              " 'source_documents': [Document(metadata={'author': 'kmd kdy', 'moddate': '2022-07-29T09:03:16+09:00', 'page': 2, 'producer': 'Hancom PDF 1.3.0.538', 'page_label': '3', 'total_pages': 18, 'creationdate': '2022-07-29T09:03:16+09:00', 'creator': 'Hancom PDF 1.3.0.538', 'pdfversion': '1.4', 'source': '/content/drive/MyDrive/[이슈리포트 2022-2호] 혁신성장 정책금융 동향.pdf'}, page_content='1. 들어가며▶혁신성장 정책금융기관은 건강한 혁신산업 생태계를 조성하기 위해 기업 성장에 필요한 자금을 지원하는 혁신성장 정책금융 제도를 시행하고 있음￮혁신성장 정책금융기관은 혁신성장에 대한 정의를 구체화한 정책금융 가이드라인*에 따라 혁신성장 산업육성을 위한 정책금융 업무를 추진 중임       * 혁신성장 기업발굴 및 금융지원을 위해 활용하는 기준으로, ‘9대 테마-46개 분야-296개 품목’으로 구성▶혁신성장 정책금융 제도 시행 이후 공급 규모가 매년 증가하는 등, 미래 혁신성장 분야의 글로벌 경쟁력 확보를 위한 금융지원이 지속 추진 중임￮정책금융기관의 혁신성장 분야 정책금융 공급규모는 2017년 240,787억 원에서 연평균 37.2% 증가하여 2021년 854,338억 원에 이르는 등 그 외연을 확장해나가고 있음￮정책금융 공급 건수 또한 2017년 28,187건에서 2021년 71,369건으로 증가함▶본 보고서는 ICT 산업의 정책금융'),\n",
              "  Document(metadata={'total_pages': 18, 'source': '/content/drive/MyDrive/[이슈리포트 2022-2호] 혁신성장 정책금융 동향.pdf', 'creator': 'Hancom PDF 1.3.0.538', 'moddate': '2022-07-29T09:03:16+09:00', 'pdfversion': '1.4', 'author': 'kmd kdy', 'page': 1, 'page_label': '2', 'creationdate': '2022-07-29T09:03:16+09:00', 'producer': 'Hancom PDF 1.3.0.538'}, page_content='반영한 혁신성장산업 기업발굴 가이드라인의 내실화·최신화에 노력을 기해야 함￮또한, 미래 성장성은 유망하나 단기 수익 창출이 어려운 산업의 지원 강화를 위해 정책금융 뿐만 아니라 민관주도의 역동적 금융으로 혁신성장 금융지원 영역을 확대할 필요가 있음'),\n",
              "  Document(metadata={'page_label': '1', 'total_pages': 18, 'page': 0, 'creator': 'Hancom PDF 1.3.0.538', 'author': 'kmd kdy', 'pdfversion': '1.4', 'source': '/content/drive/MyDrive/[이슈리포트 2022-2호] 혁신성장 정책금융 동향.pdf', 'moddate': '2022-07-29T09:03:16+09:00', 'producer': 'Hancom PDF 1.3.0.538', 'creationdate': '2022-07-29T09:03:16+09:00'}, page_content='<요  약>▶혁신성장 정책금융기관*은 혁신성장산업 영위기업을 발굴·지원하기 위한 정책금융 가이드라인**에 따라 혁신성장 기술분야에 대한 금융지원을 강화하고 있음     * 산업은행, 기업은행, 수출입은행, 신용보증기금, 기술보증기금, 중소벤처기업진흥공단, 무역보험공사 등 11개 기관    ** 혁신성장 정책금융 지원 대상을 판단하는 기준으로, ‘9대 테마 – 46개 분야 – 296개 품목’으로 구성￮정책금융기관의 혁신성장 정책금융 공급규모는 2017년 24.1조 원에서 2021년 85.4조 원으로 크게 증가하여 국내 산업 구조의 미래 산업으로의 전환을 충실히 지원하고 있음￮본 보고서는 ICT 산업의 정책금융 지원 트렌드를 파악하고, 혁신성장 정책금융이 집중되는 주요 품목의 기술·시장 동향을 분석함▶혁신성장 ICT 산업은 정보통신(6개 분야, 47개 품목), 전기전자(5개 분야, 27개 품목), 센서측정(3개 분야, 19개')]}"
            ]
          },
          "metadata": {},
          "execution_count": 117
        }
      ]
    },
    {
      "cell_type": "markdown",
      "source": [
        "#### VectorIndexCreator\n",
        "\n",
        "VectorIndexCreator는 문서 분할 - 임베딩 - 벡터 저장의 3가지 단계를 한 줄로 수행가능하도록 하는 함수입니다. 단순히 문서 loader를 넘겨줌으로써, 문서에 대한 질문이 가능하도록 합니다.\n",
        " 이를 통해 생성한 index 객체에 query()함수를 통해 질문하면 QA Chain이 작동하여 LLM이 답변까지 가능."
      ],
      "metadata": {
        "id": "59_xPr2rcPsB"
      }
    },
    {
      "cell_type": "code",
      "source": [
        "from langchain.chat_models  import ChatOpenAI\n",
        "\n",
        "llm = ChatOpenAI(\n",
        "    model_name='gpt-3.5-turbo',\n",
        ")"
      ],
      "metadata": {
        "id": "KHrEDfiwcUbY"
      },
      "execution_count": null,
      "outputs": []
    },
    {
      "cell_type": "code",
      "source": [
        "from langchain.indexes import VectorstoreIndexCreator"
      ],
      "metadata": {
        "id": "oM665vvQcrbA"
      },
      "execution_count": null,
      "outputs": []
    },
    {
      "cell_type": "code",
      "source": [
        "from google.colab import drive\n",
        "drive.mount('/content/drive')"
      ],
      "metadata": {
        "colab": {
          "base_uri": "https://localhost:8080/"
        },
        "id": "tj7NZNNWez50",
        "outputId": "1a17b2a4-4ff2-4782-ed8e-7f3a11a96f32"
      },
      "execution_count": null,
      "outputs": [
        {
          "output_type": "stream",
          "name": "stdout",
          "text": [
            "Drive already mounted at /content/drive; to attempt to forcibly remount, call drive.mount(\"/content/drive\", force_remount=True).\n"
          ]
        }
      ]
    },
    {
      "cell_type": "code",
      "source": [
        "loader = PyPDFLoader(\"/content/drive/MyDrive/[복지이슈 FOCUS 15ȣ] 경기도 극저신용대출심사모형 개발을 위한 국내 신용정보 활용가능성 탐색.pdf\")\n",
        "pages = loader.load_and_split()"
      ],
      "metadata": {
        "id": "V9eZMak3ctXi"
      },
      "execution_count": null,
      "outputs": []
    },
    {
      "cell_type": "code",
      "source": [
        "from langchain.indexes import VectorstoreIndexCreator"
      ],
      "metadata": {
        "id": "KvjDjohxfT9f"
      },
      "execution_count": null,
      "outputs": []
    },
    {
      "cell_type": "code",
      "source": [
        "index = VectorstoreIndexCreator(embedding=embedding,\n",
        "    text_splitter=RecursiveCharacterTextSplitter.from_tiktoken_encoder(chunk_size=1000, chunk_overlap=0)\n",
        ").from_loaders([loader])"
      ],
      "metadata": {
        "colab": {
          "base_uri": "https://localhost:8080/",
          "height": 176
        },
        "id": "drHIQpMffKwO",
        "outputId": "3b1f314d-8311-4ab2-8946-3d1c15cf1fc1"
      },
      "execution_count": null,
      "outputs": [
        {
          "output_type": "error",
          "ename": "NameError",
          "evalue": "name 'embedding' is not defined",
          "traceback": [
            "\u001b[0;31m---------------------------------------------------------------------------\u001b[0m",
            "\u001b[0;31mNameError\u001b[0m                                 Traceback (most recent call last)",
            "\u001b[0;32m<ipython-input-130-a2c79d643448>\u001b[0m in \u001b[0;36m<cell line: 0>\u001b[0;34m()\u001b[0m\n\u001b[0;32m----> 1\u001b[0;31m index = VectorstoreIndexCreator(embedding=embedding,\n\u001b[0m\u001b[1;32m      2\u001b[0m     \u001b[0mtext_splitter\u001b[0m\u001b[0;34m=\u001b[0m\u001b[0mRecursiveCharacterTextSplitter\u001b[0m\u001b[0;34m.\u001b[0m\u001b[0mfrom_tiktoken_encoder\u001b[0m\u001b[0;34m(\u001b[0m\u001b[0mchunk_size\u001b[0m\u001b[0;34m=\u001b[0m\u001b[0;36m1000\u001b[0m\u001b[0;34m,\u001b[0m \u001b[0mchunk_overlap\u001b[0m\u001b[0;34m=\u001b[0m\u001b[0;36m0\u001b[0m\u001b[0;34m)\u001b[0m\u001b[0;34m\u001b[0m\u001b[0;34m\u001b[0m\u001b[0m\n\u001b[1;32m      3\u001b[0m ).from_loaders([loader])\n",
            "\u001b[0;31mNameError\u001b[0m: name 'embedding' is not defined"
          ]
        }
      ]
    },
    {
      "cell_type": "code",
      "source": [
        "query = \"현행 극저신용대출 심사기준은 무엇인가 answer in Korean\"\n",
        "index.query(llm = llm, question = query)"
      ],
      "metadata": {
        "colab": {
          "base_uri": "https://localhost:8080/",
          "height": 159
        },
        "id": "4r5EGjAafMfk",
        "outputId": "0ae7232b-9821-4896-a74b-9ffff89d863b"
      },
      "execution_count": null,
      "outputs": [
        {
          "output_type": "error",
          "ename": "NameError",
          "evalue": "name 'index' is not defined",
          "traceback": [
            "\u001b[0;31m---------------------------------------------------------------------------\u001b[0m",
            "\u001b[0;31mNameError\u001b[0m                                 Traceback (most recent call last)",
            "\u001b[0;32m<ipython-input-131-628cb1a56c38>\u001b[0m in \u001b[0;36m<cell line: 0>\u001b[0;34m()\u001b[0m\n\u001b[1;32m      1\u001b[0m \u001b[0mquery\u001b[0m \u001b[0;34m=\u001b[0m \u001b[0;34m\"현행 극저신용대출 심사기준은 무엇인가 answer in Korean\"\u001b[0m\u001b[0;34m\u001b[0m\u001b[0;34m\u001b[0m\u001b[0m\n\u001b[0;32m----> 2\u001b[0;31m \u001b[0mindex\u001b[0m\u001b[0;34m.\u001b[0m\u001b[0mquery\u001b[0m\u001b[0;34m(\u001b[0m\u001b[0mllm\u001b[0m \u001b[0;34m=\u001b[0m \u001b[0mllm\u001b[0m\u001b[0;34m,\u001b[0m \u001b[0mquestion\u001b[0m \u001b[0;34m=\u001b[0m \u001b[0mquery\u001b[0m\u001b[0;34m)\u001b[0m\u001b[0;34m\u001b[0m\u001b[0;34m\u001b[0m\u001b[0m\n\u001b[0m",
            "\u001b[0;31mNameError\u001b[0m: name 'index' is not defined"
          ]
        }
      ]
    },
    {
      "cell_type": "code",
      "source": [
        "index.query_with_sources(llm = llm, question = query)"
      ],
      "metadata": {
        "id": "h2w7vWlcfNzE"
      },
      "execution_count": null,
      "outputs": []
    }
  ]
}